{
 "cells": [
  {
   "cell_type": "code",
   "execution_count": 1,
   "id": "79c03089-3df9-4f12-8649-53593d1d7b2c",
   "metadata": {},
   "outputs": [],
   "source": [
    "import pandas as pd\n",
    "import numpy as np"
   ]
  },
  {
   "cell_type": "markdown",
   "id": "3a92a827-f1ed-4e62-9b0b-c2706a506eb8",
   "metadata": {},
   "source": [
    "# Arquivo \"Clickstream\""
   ]
  },
  {
   "cell_type": "code",
   "execution_count": 2,
   "id": "4bfd8cb8-e648-46f1-bc86-cae83fcbc07d",
   "metadata": {},
   "outputs": [],
   "source": [
    "df_click = pd.read_csv('netflix/Clickstream.csv', encoding='latin-1')"
   ]
  },
  {
   "cell_type": "code",
   "execution_count": 3,
   "id": "38cddf5b-5a62-426d-8e96-74be946c4b98",
   "metadata": {},
   "outputs": [
    {
     "data": {
      "text/html": [
       "<div>\n",
       "<style scoped>\n",
       "    .dataframe tbody tr th:only-of-type {\n",
       "        vertical-align: middle;\n",
       "    }\n",
       "\n",
       "    .dataframe tbody tr th {\n",
       "        vertical-align: top;\n",
       "    }\n",
       "\n",
       "    .dataframe thead th {\n",
       "        text-align: right;\n",
       "    }\n",
       "</style>\n",
       "<table border=\"1\" class=\"dataframe\">\n",
       "  <thead>\n",
       "    <tr style=\"text-align: right;\">\n",
       "      <th></th>\n",
       "      <th>Profile Name</th>\n",
       "      <th>Source</th>\n",
       "      <th>Navigation Level</th>\n",
       "      <th>Referrer Url</th>\n",
       "      <th>Webpage Url</th>\n",
       "      <th>Click Utc Ts</th>\n",
       "    </tr>\n",
       "  </thead>\n",
       "  <tbody>\n",
       "    <tr>\n",
       "      <th>0</th>\n",
       "      <td>Usuário 1</td>\n",
       "      <td>tvui</td>\n",
       "      <td>profilesGate</td>\n",
       "      <td>NaN</td>\n",
       "      <td>NaN</td>\n",
       "      <td>2021-01-05 12:49:57</td>\n",
       "    </tr>\n",
       "    <tr>\n",
       "      <th>1</th>\n",
       "      <td>Usuário 1</td>\n",
       "      <td>tvui</td>\n",
       "      <td>browseTitles</td>\n",
       "      <td>NaN</td>\n",
       "      <td>NaN</td>\n",
       "      <td>2021-01-04 17:42:48</td>\n",
       "    </tr>\n",
       "    <tr>\n",
       "      <th>2</th>\n",
       "      <td>Usuário 1</td>\n",
       "      <td>tvui</td>\n",
       "      <td>profilesGate</td>\n",
       "      <td>NaN</td>\n",
       "      <td>NaN</td>\n",
       "      <td>2021-01-04 17:42:48</td>\n",
       "    </tr>\n",
       "    <tr>\n",
       "      <th>3</th>\n",
       "      <td>Usuário 1</td>\n",
       "      <td>tvui</td>\n",
       "      <td>search</td>\n",
       "      <td>NaN</td>\n",
       "      <td>NaN</td>\n",
       "      <td>2021-01-04 17:42:26</td>\n",
       "    </tr>\n",
       "    <tr>\n",
       "      <th>4</th>\n",
       "      <td>Usuário 1</td>\n",
       "      <td>tvui</td>\n",
       "      <td>browseTitles</td>\n",
       "      <td>NaN</td>\n",
       "      <td>NaN</td>\n",
       "      <td>2021-01-04 17:42:26</td>\n",
       "    </tr>\n",
       "  </tbody>\n",
       "</table>\n",
       "</div>"
      ],
      "text/plain": [
       "  Profile Name Source Navigation Level Referrer Url Webpage Url  \\\n",
       "0    Usuário 1   tvui     profilesGate          NaN         NaN   \n",
       "1    Usuário 1   tvui     browseTitles          NaN         NaN   \n",
       "2    Usuário 1   tvui     profilesGate          NaN         NaN   \n",
       "3    Usuário 1   tvui           search          NaN         NaN   \n",
       "4    Usuário 1   tvui     browseTitles          NaN         NaN   \n",
       "\n",
       "          Click Utc Ts  \n",
       "0  2021-01-05 12:49:57  \n",
       "1  2021-01-04 17:42:48  \n",
       "2  2021-01-04 17:42:48  \n",
       "3  2021-01-04 17:42:26  \n",
       "4  2021-01-04 17:42:26  "
      ]
     },
     "execution_count": 3,
     "metadata": {},
     "output_type": "execute_result"
    }
   ],
   "source": [
    "df_click.head()"
   ]
  },
  {
   "cell_type": "code",
   "execution_count": 4,
   "id": "35455cb4-55d2-40e0-b306-8c073fcfc429",
   "metadata": {},
   "outputs": [
    {
     "name": "stdout",
     "output_type": "stream",
     "text": [
      "<class 'pandas.core.frame.DataFrame'>\n",
      "RangeIndex: 6696 entries, 0 to 6695\n",
      "Data columns (total 6 columns):\n",
      " #   Column            Non-Null Count  Dtype \n",
      "---  ------            --------------  ----- \n",
      " 0   Profile Name      6696 non-null   object\n",
      " 1   Source            6696 non-null   object\n",
      " 2   Navigation Level  6696 non-null   object\n",
      " 3   Referrer Url      469 non-null    object\n",
      " 4   Webpage Url       511 non-null    object\n",
      " 5   Click Utc Ts      6696 non-null   object\n",
      "dtypes: object(6)\n",
      "memory usage: 314.0+ KB\n"
     ]
    }
   ],
   "source": [
    "df_click.info()"
   ]
  },
  {
   "cell_type": "code",
   "execution_count": 5,
   "id": "57281f95-c6df-4758-9401-061cfd239056",
   "metadata": {},
   "outputs": [
    {
     "data": {
      "text/plain": [
       "movieDetails                    1706\n",
       "playback                        1568\n",
       "browseTitles                    1431\n",
       "profilesGate                     639\n",
       "postPlay                         501\n",
       "search                           434\n",
       "errorDialog                      103\n",
       "browseTitlesGallery               91\n",
       "cachedVideos                      56\n",
       "exitDialog                        51\n",
       "audioSubtitlesSelector            30\n",
       "accountMenu                       18\n",
       "previews                          14\n",
       "newsFeed                          11\n",
       "searchSuggestionTitleResults      10\n",
       "movieCreditsAndRatings             8\n",
       "customerService                    8\n",
       "editProfile                        6\n",
       "addProfile                         4\n",
       "nmLanding                          3\n",
       "editProfileName                    2\n",
       "login                              1\n",
       "anniversayTermsOfUseNotice         1\n",
       "Name: Navigation Level, dtype: int64"
      ]
     },
     "execution_count": 5,
     "metadata": {},
     "output_type": "execute_result"
    }
   ],
   "source": [
    "df_click['Navigation Level'].value_counts()"
   ]
  },
  {
   "cell_type": "code",
   "execution_count": 6,
   "id": "cef683ce-e8b7-4a52-993f-164ec0d4080a",
   "metadata": {},
   "outputs": [
    {
     "data": {
      "text/plain": [
       "Usuário 2    5341\n",
       "Usuário 3    1310\n",
       "Usuário 1      45\n",
       "Name: Profile Name, dtype: int64"
      ]
     },
     "execution_count": 6,
     "metadata": {},
     "output_type": "execute_result"
    }
   ],
   "source": [
    "df_click['Profile Name'].value_counts()"
   ]
  },
  {
   "cell_type": "code",
   "execution_count": 7,
   "id": "183742a3-2e18-47d9-9dfa-cf435490e5a8",
   "metadata": {},
   "outputs": [
    {
     "data": {
      "text/plain": [
       "tvui       5457\n",
       "android     728\n",
       "www         511\n",
       "Name: Source, dtype: int64"
      ]
     },
     "execution_count": 7,
     "metadata": {},
     "output_type": "execute_result"
    }
   ],
   "source": [
    "df_click['Source'].value_counts()"
   ]
  },
  {
   "cell_type": "code",
   "execution_count": 8,
   "id": "1edf895c-243b-431b-86a0-ea6a3d36dead",
   "metadata": {},
   "outputs": [
    {
     "data": {
      "text/plain": [
       "/browse                                                                                                                                                              90\n",
       "https://www.google.com/                                                                                                                                              20\n",
       "/search?q=rela                                                                                                                                                        8\n",
       "/search?q=carros                                                                                                                                                      7\n",
       "/search?q=c                                                                                                                                                           6\n",
       "                                                                                                                                                                     ..\n",
       "/browse/genre/34399                                                                                                                                                   1\n",
       "/watch/80019121?trackId=200257859                                                                                                                                     1\n",
       "/watch/80003012?trackId=14170286&tctx=1%2C0%2Cda61e361-1a3a-4998-a15d-84637bd08b38-6498473%2C4c5fa873-9c49-4f3e-8618-47c95d753b17_33305445X3XX1604538691413%2C%2C     1\n",
       "https://www.netflix.com/watch/80003012?trackId=200257859                                                                                                              1\n",
       "https://www.netflix.com/browse                                                                                                                                        1\n",
       "Name: Referrer Url, Length: 155, dtype: int64"
      ]
     },
     "execution_count": 8,
     "metadata": {},
     "output_type": "execute_result"
    }
   ],
   "source": [
    "df_click['Referrer Url'].value_counts()"
   ]
  },
  {
   "cell_type": "code",
   "execution_count": 9,
   "id": "dbcc87ea-ba8e-4723-ba00-d2dfb965f275",
   "metadata": {},
   "outputs": [
    {
     "data": {
      "text/plain": [
       "/browse                                                                                                                                                                                                                                 113\n",
       "/search?q=rela                                                                                                                                                                                                                            8\n",
       "/search?q=carros                                                                                                                                                                                                                          8\n",
       "/search?q=ca                                                                                                                                                                                                                              6\n",
       "/search?q=mcquenn                                                                                                                                                                                                                         6\n",
       "                                                                                                                                                                                                                                       ... \n",
       "/watch/81167887?trackId=14170035&tctx=1%2C0%2Cdc37a73e-9b52-4f24-90ec-6e65a1ac2df7-9312987%2Cc1e06426-7e00-4099-83d6-cf4ff5b86b6e_17640221X19XX1612292962296%2Cc1e06426-7e00-4099-83d6-cf4ff5b86b6e_ROOT%2C                               1\n",
       "/watch/80003013?trackId=200257858                                                                                                                                                                                                         1\n",
       "/watch/80192646?trackId=255275177&tctx=6%2C3%2C84bb44be-c69d-48a1-8bf9-65889ea59204-10502731%2Cbe01b8e4-e38a-4483-ac92-ee44070c6859_89307269X101XX1611022422120%2C%2C                                                                     1\n",
       "/watch/80044538?trackId=13752289&tctx=0%2C0%2C41c994451eead57ded862ee3fea55eaff7ae38e0%3A6b4c898ab7827361d90ea2495c203e798d405489%2C41c994451eead57ded862ee3fea55eaff7ae38e0%3A6b4c898ab7827361d90ea2495c203e798d405489%2Cunknown%2C      1\n",
       "/watch/80003012?trackId=200257859                                                                                                                                                                                                         1\n",
       "Name: Webpage Url, Length: 174, dtype: int64"
      ]
     },
     "execution_count": 9,
     "metadata": {},
     "output_type": "execute_result"
    }
   ],
   "source": [
    "df_click['Webpage Url'].value_counts()"
   ]
  },
  {
   "cell_type": "code",
   "execution_count": 10,
   "id": "1e032c10-3674-4a1f-bd40-aead35b2d535",
   "metadata": {},
   "outputs": [],
   "source": [
    "df_click.drop(columns=['Referrer Url', 'Webpage Url'], inplace=True)"
   ]
  },
  {
   "cell_type": "code",
   "execution_count": 11,
   "id": "ebf6acff-adad-4fcb-b5eb-e8597c8255aa",
   "metadata": {},
   "outputs": [
    {
     "data": {
      "text/html": [
       "<div>\n",
       "<style scoped>\n",
       "    .dataframe tbody tr th:only-of-type {\n",
       "        vertical-align: middle;\n",
       "    }\n",
       "\n",
       "    .dataframe tbody tr th {\n",
       "        vertical-align: top;\n",
       "    }\n",
       "\n",
       "    .dataframe thead th {\n",
       "        text-align: right;\n",
       "    }\n",
       "</style>\n",
       "<table border=\"1\" class=\"dataframe\">\n",
       "  <thead>\n",
       "    <tr style=\"text-align: right;\">\n",
       "      <th></th>\n",
       "      <th>Profile Name</th>\n",
       "      <th>Source</th>\n",
       "      <th>Navigation Level</th>\n",
       "      <th>Click Utc Ts</th>\n",
       "    </tr>\n",
       "  </thead>\n",
       "  <tbody>\n",
       "    <tr>\n",
       "      <th>0</th>\n",
       "      <td>Usuário 1</td>\n",
       "      <td>tvui</td>\n",
       "      <td>profilesGate</td>\n",
       "      <td>2021-01-05 12:49:57</td>\n",
       "    </tr>\n",
       "    <tr>\n",
       "      <th>1</th>\n",
       "      <td>Usuário 1</td>\n",
       "      <td>tvui</td>\n",
       "      <td>browseTitles</td>\n",
       "      <td>2021-01-04 17:42:48</td>\n",
       "    </tr>\n",
       "    <tr>\n",
       "      <th>2</th>\n",
       "      <td>Usuário 1</td>\n",
       "      <td>tvui</td>\n",
       "      <td>profilesGate</td>\n",
       "      <td>2021-01-04 17:42:48</td>\n",
       "    </tr>\n",
       "    <tr>\n",
       "      <th>3</th>\n",
       "      <td>Usuário 1</td>\n",
       "      <td>tvui</td>\n",
       "      <td>search</td>\n",
       "      <td>2021-01-04 17:42:26</td>\n",
       "    </tr>\n",
       "    <tr>\n",
       "      <th>4</th>\n",
       "      <td>Usuário 1</td>\n",
       "      <td>tvui</td>\n",
       "      <td>browseTitles</td>\n",
       "      <td>2021-01-04 17:42:26</td>\n",
       "    </tr>\n",
       "  </tbody>\n",
       "</table>\n",
       "</div>"
      ],
      "text/plain": [
       "  Profile Name Source Navigation Level         Click Utc Ts\n",
       "0    Usuário 1   tvui     profilesGate  2021-01-05 12:49:57\n",
       "1    Usuário 1   tvui     browseTitles  2021-01-04 17:42:48\n",
       "2    Usuário 1   tvui     profilesGate  2021-01-04 17:42:48\n",
       "3    Usuário 1   tvui           search  2021-01-04 17:42:26\n",
       "4    Usuário 1   tvui     browseTitles  2021-01-04 17:42:26"
      ]
     },
     "execution_count": 11,
     "metadata": {},
     "output_type": "execute_result"
    }
   ],
   "source": [
    "df_click.head()"
   ]
  },
  {
   "cell_type": "code",
   "execution_count": 12,
   "id": "ee02b724-93fa-4ba4-abd0-9713b99d743b",
   "metadata": {},
   "outputs": [],
   "source": [
    "df_click.rename(columns={'Profile Name': 'nome_usuario', \n",
    "                 'Source': \"acessado_via\" , \n",
    "                 'Navigation Level': \"pagina_acessada\", \n",
    "                 'Click Utc Ts': 'data_hora_acesso'}, inplace=True)"
   ]
  },
  {
   "cell_type": "code",
   "execution_count": 13,
   "id": "7fc25ce0-947a-4304-a29e-799dabdf85a9",
   "metadata": {},
   "outputs": [
    {
     "data": {
      "text/html": [
       "<div>\n",
       "<style scoped>\n",
       "    .dataframe tbody tr th:only-of-type {\n",
       "        vertical-align: middle;\n",
       "    }\n",
       "\n",
       "    .dataframe tbody tr th {\n",
       "        vertical-align: top;\n",
       "    }\n",
       "\n",
       "    .dataframe thead th {\n",
       "        text-align: right;\n",
       "    }\n",
       "</style>\n",
       "<table border=\"1\" class=\"dataframe\">\n",
       "  <thead>\n",
       "    <tr style=\"text-align: right;\">\n",
       "      <th></th>\n",
       "      <th>nome_usuario</th>\n",
       "      <th>acessado_via</th>\n",
       "      <th>pagina_acessada</th>\n",
       "      <th>data_hora_acesso</th>\n",
       "    </tr>\n",
       "  </thead>\n",
       "  <tbody>\n",
       "    <tr>\n",
       "      <th>0</th>\n",
       "      <td>Usuário 1</td>\n",
       "      <td>tvui</td>\n",
       "      <td>profilesGate</td>\n",
       "      <td>2021-01-05 12:49:57</td>\n",
       "    </tr>\n",
       "    <tr>\n",
       "      <th>1</th>\n",
       "      <td>Usuário 1</td>\n",
       "      <td>tvui</td>\n",
       "      <td>browseTitles</td>\n",
       "      <td>2021-01-04 17:42:48</td>\n",
       "    </tr>\n",
       "    <tr>\n",
       "      <th>2</th>\n",
       "      <td>Usuário 1</td>\n",
       "      <td>tvui</td>\n",
       "      <td>profilesGate</td>\n",
       "      <td>2021-01-04 17:42:48</td>\n",
       "    </tr>\n",
       "    <tr>\n",
       "      <th>3</th>\n",
       "      <td>Usuário 1</td>\n",
       "      <td>tvui</td>\n",
       "      <td>search</td>\n",
       "      <td>2021-01-04 17:42:26</td>\n",
       "    </tr>\n",
       "    <tr>\n",
       "      <th>4</th>\n",
       "      <td>Usuário 1</td>\n",
       "      <td>tvui</td>\n",
       "      <td>browseTitles</td>\n",
       "      <td>2021-01-04 17:42:26</td>\n",
       "    </tr>\n",
       "  </tbody>\n",
       "</table>\n",
       "</div>"
      ],
      "text/plain": [
       "  nome_usuario acessado_via pagina_acessada     data_hora_acesso\n",
       "0    Usuário 1         tvui    profilesGate  2021-01-05 12:49:57\n",
       "1    Usuário 1         tvui    browseTitles  2021-01-04 17:42:48\n",
       "2    Usuário 1         tvui    profilesGate  2021-01-04 17:42:48\n",
       "3    Usuário 1         tvui          search  2021-01-04 17:42:26\n",
       "4    Usuário 1         tvui    browseTitles  2021-01-04 17:42:26"
      ]
     },
     "execution_count": 13,
     "metadata": {},
     "output_type": "execute_result"
    }
   ],
   "source": [
    "df_click.head()"
   ]
  },
  {
   "cell_type": "code",
   "execution_count": 14,
   "id": "81d2b7b4-81aa-4d7d-a903-df33848f2555",
   "metadata": {},
   "outputs": [],
   "source": [
    "tv = ['tvui']\n",
    "smartphone = ['android']\n",
    "navegador = ['www']"
   ]
  },
  {
   "cell_type": "code",
   "execution_count": 15,
   "id": "67f8e29a-6222-45ab-a177-3c94ba8f6e07",
   "metadata": {},
   "outputs": [],
   "source": [
    "condicoes = [\n",
    "    (df_click['acessado_via'].isin(tv)),\n",
    "    (df_click['acessado_via'].isin(smartphone)),\n",
    "    (df_click['acessado_via'].isin(navegador)),\n",
    "    ]\n",
    "\n",
    "valores = ['TV', 'Smartphone', 'Navegador']\n",
    "\n",
    "df_click['acessado_via'] = np.select(condicoes, valores)"
   ]
  },
  {
   "cell_type": "code",
   "execution_count": 16,
   "id": "3d171f18-a688-443e-9963-d5e334c518c2",
   "metadata": {},
   "outputs": [
    {
     "data": {
      "text/plain": [
       "TV            5457\n",
       "Smartphone     728\n",
       "Navegador      511\n",
       "Name: acessado_via, dtype: int64"
      ]
     },
     "execution_count": 16,
     "metadata": {},
     "output_type": "execute_result"
    }
   ],
   "source": [
    "df_click['acessado_via'].value_counts()"
   ]
  },
  {
   "cell_type": "code",
   "execution_count": 17,
   "id": "d46780d8-7f08-4198-9e86-548d18f946d4",
   "metadata": {},
   "outputs": [
    {
     "data": {
      "text/html": [
       "<div>\n",
       "<style scoped>\n",
       "    .dataframe tbody tr th:only-of-type {\n",
       "        vertical-align: middle;\n",
       "    }\n",
       "\n",
       "    .dataframe tbody tr th {\n",
       "        vertical-align: top;\n",
       "    }\n",
       "\n",
       "    .dataframe thead th {\n",
       "        text-align: right;\n",
       "    }\n",
       "</style>\n",
       "<table border=\"1\" class=\"dataframe\">\n",
       "  <thead>\n",
       "    <tr style=\"text-align: right;\">\n",
       "      <th></th>\n",
       "      <th>nome_usuario</th>\n",
       "      <th>acessado_via</th>\n",
       "      <th>pagina_acessada</th>\n",
       "      <th>data_hora_acesso</th>\n",
       "    </tr>\n",
       "  </thead>\n",
       "  <tbody>\n",
       "    <tr>\n",
       "      <th>0</th>\n",
       "      <td>Usuário 1</td>\n",
       "      <td>TV</td>\n",
       "      <td>profilesGate</td>\n",
       "      <td>2021-01-05 12:49:57</td>\n",
       "    </tr>\n",
       "    <tr>\n",
       "      <th>1</th>\n",
       "      <td>Usuário 1</td>\n",
       "      <td>TV</td>\n",
       "      <td>browseTitles</td>\n",
       "      <td>2021-01-04 17:42:48</td>\n",
       "    </tr>\n",
       "    <tr>\n",
       "      <th>2</th>\n",
       "      <td>Usuário 1</td>\n",
       "      <td>TV</td>\n",
       "      <td>profilesGate</td>\n",
       "      <td>2021-01-04 17:42:48</td>\n",
       "    </tr>\n",
       "    <tr>\n",
       "      <th>3</th>\n",
       "      <td>Usuário 1</td>\n",
       "      <td>TV</td>\n",
       "      <td>search</td>\n",
       "      <td>2021-01-04 17:42:26</td>\n",
       "    </tr>\n",
       "    <tr>\n",
       "      <th>4</th>\n",
       "      <td>Usuário 1</td>\n",
       "      <td>TV</td>\n",
       "      <td>browseTitles</td>\n",
       "      <td>2021-01-04 17:42:26</td>\n",
       "    </tr>\n",
       "  </tbody>\n",
       "</table>\n",
       "</div>"
      ],
      "text/plain": [
       "  nome_usuario acessado_via pagina_acessada     data_hora_acesso\n",
       "0    Usuário 1           TV    profilesGate  2021-01-05 12:49:57\n",
       "1    Usuário 1           TV    browseTitles  2021-01-04 17:42:48\n",
       "2    Usuário 1           TV    profilesGate  2021-01-04 17:42:48\n",
       "3    Usuário 1           TV          search  2021-01-04 17:42:26\n",
       "4    Usuário 1           TV    browseTitles  2021-01-04 17:42:26"
      ]
     },
     "execution_count": 17,
     "metadata": {},
     "output_type": "execute_result"
    }
   ],
   "source": [
    "df_click.head()"
   ]
  },
  {
   "cell_type": "code",
   "execution_count": 18,
   "id": "8fe1a83c-4613-4a7a-baa5-4d6da184c2e4",
   "metadata": {},
   "outputs": [],
   "source": [
    "df_click['data_hora_acesso'] = pd.to_datetime(df_click['data_hora_acesso'])"
   ]
  },
  {
   "cell_type": "code",
   "execution_count": 19,
   "id": "2fe0a871-a650-4fde-bb79-f287f9ed3061",
   "metadata": {},
   "outputs": [
    {
     "name": "stdout",
     "output_type": "stream",
     "text": [
      "<class 'pandas.core.frame.DataFrame'>\n",
      "RangeIndex: 6696 entries, 0 to 6695\n",
      "Data columns (total 4 columns):\n",
      " #   Column            Non-Null Count  Dtype         \n",
      "---  ------            --------------  -----         \n",
      " 0   nome_usuario      6696 non-null   object        \n",
      " 1   acessado_via      6696 non-null   object        \n",
      " 2   pagina_acessada   6696 non-null   object        \n",
      " 3   data_hora_acesso  6696 non-null   datetime64[ns]\n",
      "dtypes: datetime64[ns](1), object(3)\n",
      "memory usage: 209.4+ KB\n"
     ]
    }
   ],
   "source": [
    "df_click.info()"
   ]
  },
  {
   "cell_type": "code",
   "execution_count": 20,
   "id": "363b375b-b792-4bae-9c3e-379e74015386",
   "metadata": {},
   "outputs": [
    {
     "data": {
      "text/html": [
       "<div>\n",
       "<style scoped>\n",
       "    .dataframe tbody tr th:only-of-type {\n",
       "        vertical-align: middle;\n",
       "    }\n",
       "\n",
       "    .dataframe tbody tr th {\n",
       "        vertical-align: top;\n",
       "    }\n",
       "\n",
       "    .dataframe thead th {\n",
       "        text-align: right;\n",
       "    }\n",
       "</style>\n",
       "<table border=\"1\" class=\"dataframe\">\n",
       "  <thead>\n",
       "    <tr style=\"text-align: right;\">\n",
       "      <th></th>\n",
       "      <th>nome_usuario</th>\n",
       "      <th>acessado_via</th>\n",
       "      <th>pagina_acessada</th>\n",
       "      <th>data_hora_acesso</th>\n",
       "    </tr>\n",
       "  </thead>\n",
       "  <tbody>\n",
       "    <tr>\n",
       "      <th>0</th>\n",
       "      <td>Usuário 1</td>\n",
       "      <td>TV</td>\n",
       "      <td>profilesGate</td>\n",
       "      <td>2021-01-05 12:49:57</td>\n",
       "    </tr>\n",
       "    <tr>\n",
       "      <th>1</th>\n",
       "      <td>Usuário 1</td>\n",
       "      <td>TV</td>\n",
       "      <td>browseTitles</td>\n",
       "      <td>2021-01-04 17:42:48</td>\n",
       "    </tr>\n",
       "    <tr>\n",
       "      <th>2</th>\n",
       "      <td>Usuário 1</td>\n",
       "      <td>TV</td>\n",
       "      <td>profilesGate</td>\n",
       "      <td>2021-01-04 17:42:48</td>\n",
       "    </tr>\n",
       "    <tr>\n",
       "      <th>3</th>\n",
       "      <td>Usuário 1</td>\n",
       "      <td>TV</td>\n",
       "      <td>search</td>\n",
       "      <td>2021-01-04 17:42:26</td>\n",
       "    </tr>\n",
       "    <tr>\n",
       "      <th>4</th>\n",
       "      <td>Usuário 1</td>\n",
       "      <td>TV</td>\n",
       "      <td>browseTitles</td>\n",
       "      <td>2021-01-04 17:42:26</td>\n",
       "    </tr>\n",
       "  </tbody>\n",
       "</table>\n",
       "</div>"
      ],
      "text/plain": [
       "  nome_usuario acessado_via pagina_acessada    data_hora_acesso\n",
       "0    Usuário 1           TV    profilesGate 2021-01-05 12:49:57\n",
       "1    Usuário 1           TV    browseTitles 2021-01-04 17:42:48\n",
       "2    Usuário 1           TV    profilesGate 2021-01-04 17:42:48\n",
       "3    Usuário 1           TV          search 2021-01-04 17:42:26\n",
       "4    Usuário 1           TV    browseTitles 2021-01-04 17:42:26"
      ]
     },
     "execution_count": 20,
     "metadata": {},
     "output_type": "execute_result"
    }
   ],
   "source": [
    "df_click.head()"
   ]
  },
  {
   "cell_type": "code",
   "execution_count": 21,
   "id": "294cd32c-27df-4ecd-983f-f0ccfe70ef06",
   "metadata": {},
   "outputs": [
    {
     "data": {
      "text/plain": [
       "movieDetails                    1706\n",
       "playback                        1568\n",
       "browseTitles                    1431\n",
       "profilesGate                     639\n",
       "postPlay                         501\n",
       "search                           434\n",
       "errorDialog                      103\n",
       "browseTitlesGallery               91\n",
       "cachedVideos                      56\n",
       "exitDialog                        51\n",
       "audioSubtitlesSelector            30\n",
       "accountMenu                       18\n",
       "previews                          14\n",
       "newsFeed                          11\n",
       "searchSuggestionTitleResults      10\n",
       "movieCreditsAndRatings             8\n",
       "customerService                    8\n",
       "editProfile                        6\n",
       "addProfile                         4\n",
       "nmLanding                          3\n",
       "editProfileName                    2\n",
       "login                              1\n",
       "anniversayTermsOfUseNotice         1\n",
       "Name: pagina_acessada, dtype: int64"
      ]
     },
     "execution_count": 21,
     "metadata": {},
     "output_type": "execute_result"
    }
   ],
   "source": [
    "df_click.pagina_acessada.value_counts()"
   ]
  },
  {
   "cell_type": "markdown",
   "id": "eb33ecc5-62b6-4e50-8573-1e9caa09294a",
   "metadata": {},
   "source": [
    "### _________________________________________________________________________________________________________________________"
   ]
  },
  {
   "cell_type": "markdown",
   "id": "45261bab-1b80-4764-9253-b9c3285210b6",
   "metadata": {},
   "source": [
    "# Arquivo \"InteractiveTitles\""
   ]
  },
  {
   "cell_type": "code",
   "execution_count": 22,
   "id": "e799ca94-a116-4947-b3c8-67e0fbcf8a34",
   "metadata": {},
   "outputs": [],
   "source": [
    "df_titles = pd.read_csv('netflix/InteractiveTitles.csv', encoding='latin-1')"
   ]
  },
  {
   "cell_type": "code",
   "execution_count": 23,
   "id": "55743513-f39b-4d88-931d-a1c8db1f71ce",
   "metadata": {},
   "outputs": [
    {
     "data": {
      "text/html": [
       "<div>\n",
       "<style scoped>\n",
       "    .dataframe tbody tr th:only-of-type {\n",
       "        vertical-align: middle;\n",
       "    }\n",
       "\n",
       "    .dataframe tbody tr th {\n",
       "        vertical-align: top;\n",
       "    }\n",
       "\n",
       "    .dataframe thead th {\n",
       "        text-align: right;\n",
       "    }\n",
       "</style>\n",
       "<table border=\"1\" class=\"dataframe\">\n",
       "  <thead>\n",
       "    <tr style=\"text-align: right;\">\n",
       "      <th></th>\n",
       "      <th>Profile Name</th>\n",
       "      <th>Title Desc</th>\n",
       "      <th>Selection Type</th>\n",
       "      <th>Choice Segment Id</th>\n",
       "      <th>Has Watched</th>\n",
       "      <th>Source</th>\n",
       "      <th>Utc Timestamp</th>\n",
       "    </tr>\n",
       "  </thead>\n",
       "  <tbody>\n",
       "    <tr>\n",
       "      <th>0</th>\n",
       "      <td>Usuário 1,\"Minecraft: Story Mode: Season 1: \"\"...</td>\n",
       "      <td>NaN</td>\n",
       "      <td>NaN</td>\n",
       "      <td>NaN</td>\n",
       "      <td>NaN</td>\n",
       "      <td>NaN</td>\n",
       "      <td>NaN</td>\n",
       "    </tr>\n",
       "    <tr>\n",
       "      <th>1</th>\n",
       "      <td>Usuário 1,\"Minecraft: Story Mode: Season 1: \"\"...</td>\n",
       "      <td>NaN</td>\n",
       "      <td>NaN</td>\n",
       "      <td>NaN</td>\n",
       "      <td>NaN</td>\n",
       "      <td>NaN</td>\n",
       "      <td>NaN</td>\n",
       "    </tr>\n",
       "    <tr>\n",
       "      <th>2</th>\n",
       "      <td>Usuário 1,\"Minecraft: Story Mode: Season 1: \"\"...</td>\n",
       "      <td>NaN</td>\n",
       "      <td>NaN</td>\n",
       "      <td>NaN</td>\n",
       "      <td>NaN</td>\n",
       "      <td>NaN</td>\n",
       "      <td>NaN</td>\n",
       "    </tr>\n",
       "    <tr>\n",
       "      <th>3</th>\n",
       "      <td>Usuário 1,\"Minecraft: Story Mode: Season 1: \"\"...</td>\n",
       "      <td>NaN</td>\n",
       "      <td>NaN</td>\n",
       "      <td>NaN</td>\n",
       "      <td>NaN</td>\n",
       "      <td>NaN</td>\n",
       "      <td>NaN</td>\n",
       "    </tr>\n",
       "    <tr>\n",
       "      <th>4</th>\n",
       "      <td>Usuário 1,\"Minecraft: Story Mode: Season 1: \"\"...</td>\n",
       "      <td>NaN</td>\n",
       "      <td>NaN</td>\n",
       "      <td>NaN</td>\n",
       "      <td>NaN</td>\n",
       "      <td>NaN</td>\n",
       "      <td>NaN</td>\n",
       "    </tr>\n",
       "  </tbody>\n",
       "</table>\n",
       "</div>"
      ],
      "text/plain": [
       "                                        Profile Name Title Desc  \\\n",
       "0  Usuário 1,\"Minecraft: Story Mode: Season 1: \"\"...        NaN   \n",
       "1  Usuário 1,\"Minecraft: Story Mode: Season 1: \"\"...        NaN   \n",
       "2  Usuário 1,\"Minecraft: Story Mode: Season 1: \"\"...        NaN   \n",
       "3  Usuário 1,\"Minecraft: Story Mode: Season 1: \"\"...        NaN   \n",
       "4  Usuário 1,\"Minecraft: Story Mode: Season 1: \"\"...        NaN   \n",
       "\n",
       "  Selection Type Choice Segment Id Has Watched Source Utc Timestamp  \n",
       "0            NaN               NaN         NaN    NaN           NaN  \n",
       "1            NaN               NaN         NaN    NaN           NaN  \n",
       "2            NaN               NaN         NaN    NaN           NaN  \n",
       "3            NaN               NaN         NaN    NaN           NaN  \n",
       "4            NaN               NaN         NaN    NaN           NaN  "
      ]
     },
     "execution_count": 23,
     "metadata": {},
     "output_type": "execute_result"
    }
   ],
   "source": [
    "df_titles.head()"
   ]
  },
  {
   "cell_type": "code",
   "execution_count": 24,
   "id": "f216d728-3b94-4e78-b3e4-449210372c70",
   "metadata": {},
   "outputs": [
    {
     "data": {
      "text/plain": [
       "(102, 7)"
      ]
     },
     "execution_count": 24,
     "metadata": {},
     "output_type": "execute_result"
    }
   ],
   "source": [
    "df_titles.shape"
   ]
  },
  {
   "cell_type": "code",
   "execution_count": 25,
   "id": "d505aded-ad1f-46a4-80d0-2c188ab7243c",
   "metadata": {},
   "outputs": [
    {
     "name": "stdout",
     "output_type": "stream",
     "text": [
      "<class 'list'>\n",
      "103\n"
     ]
    }
   ],
   "source": [
    "arq = open('netflix/InteractiveTitles.csv', 'r', encoding='latin-1')\n",
    "linhas_csv = arq.readlines()\n",
    "\n",
    "\n",
    "print(type(linhas_csv))\n",
    "print(len(linhas_csv))"
   ]
  },
  {
   "cell_type": "code",
   "execution_count": 26,
   "id": "bc669f72-3e49-44e7-891a-61e03a9a5adf",
   "metadata": {},
   "outputs": [],
   "source": [
    "lista = [i.split(',') for i in linhas_csv]"
   ]
  },
  {
   "cell_type": "code",
   "execution_count": 27,
   "id": "6499a5d0-ef46-4e27-aa8a-4672c29d73df",
   "metadata": {},
   "outputs": [
    {
     "data": {
      "text/plain": [
       "['Profile Name',\n",
       " 'Title Desc',\n",
       " 'Selection Type',\n",
       " 'Choice Segment Id',\n",
       " 'Has Watched',\n",
       " 'Source',\n",
       " 'Utc Timestamp\\n']"
      ]
     },
     "execution_count": 27,
     "metadata": {},
     "output_type": "execute_result"
    }
   ],
   "source": [
    "lista[0]"
   ]
  },
  {
   "cell_type": "code",
   "execution_count": 28,
   "id": "e696b152-8a0d-43a7-b2f1-54e4ed2248b1",
   "metadata": {},
   "outputs": [
    {
     "data": {
      "text/plain": [
       "['Profile Name',\n",
       " 'Title Desc',\n",
       " 'Selection Type',\n",
       " 'Choice Segment Id',\n",
       " 'Has Watched',\n",
       " 'Source',\n",
       " 'Utc Timestamp\\n']"
      ]
     },
     "execution_count": 28,
     "metadata": {},
     "output_type": "execute_result"
    }
   ],
   "source": [
    "lista.pop(0)"
   ]
  },
  {
   "cell_type": "code",
   "execution_count": 29,
   "id": "98b9da85-6cb7-4e2e-a927-eb3bb35c596e",
   "metadata": {},
   "outputs": [
    {
     "data": {
      "text/plain": [
       "['\"Usuário 1',\n",
       " '\"\"Minecraft: Story Mode: Season 1: \"\"\"\"The Order of the Stone\"\"\"\"\"\"',\n",
       " 'userinput',\n",
       " 'Que orgulho de vocÃªs.',\n",
       " 'false',\n",
       " 'android',\n",
       " '2020-07-12 23:41:38\"\\n']"
      ]
     },
     "execution_count": 29,
     "metadata": {},
     "output_type": "execute_result"
    }
   ],
   "source": [
    "lista[0]"
   ]
  },
  {
   "cell_type": "code",
   "execution_count": 30,
   "id": "a88996d4-e0e0-4922-b4f0-ebb5ffecd767",
   "metadata": {},
   "outputs": [],
   "source": [
    "for c in range(0, len(lista)):\n",
    "    if len(lista[c]) == 7:\n",
    "        df_titles.loc[c] = lista[c]\n"
   ]
  },
  {
   "cell_type": "code",
   "execution_count": 31,
   "id": "db3252c0-6d8c-4be9-8093-d5541a88d8b9",
   "metadata": {},
   "outputs": [
    {
     "data": {
      "text/html": [
       "<div>\n",
       "<style scoped>\n",
       "    .dataframe tbody tr th:only-of-type {\n",
       "        vertical-align: middle;\n",
       "    }\n",
       "\n",
       "    .dataframe tbody tr th {\n",
       "        vertical-align: top;\n",
       "    }\n",
       "\n",
       "    .dataframe thead th {\n",
       "        text-align: right;\n",
       "    }\n",
       "</style>\n",
       "<table border=\"1\" class=\"dataframe\">\n",
       "  <thead>\n",
       "    <tr style=\"text-align: right;\">\n",
       "      <th></th>\n",
       "      <th>Profile Name</th>\n",
       "      <th>Title Desc</th>\n",
       "      <th>Selection Type</th>\n",
       "      <th>Choice Segment Id</th>\n",
       "      <th>Has Watched</th>\n",
       "      <th>Source</th>\n",
       "      <th>Utc Timestamp</th>\n",
       "    </tr>\n",
       "  </thead>\n",
       "  <tbody>\n",
       "    <tr>\n",
       "      <th>0</th>\n",
       "      <td>\"Usuário 1</td>\n",
       "      <td>\"\"Minecraft: Story Mode: Season 1: \"\"\"\"The Ord...</td>\n",
       "      <td>userinput</td>\n",
       "      <td>Que orgulho de vocÃªs.</td>\n",
       "      <td>false</td>\n",
       "      <td>android</td>\n",
       "      <td>2020-07-12 23:41:38\"\\n</td>\n",
       "    </tr>\n",
       "    <tr>\n",
       "      <th>1</th>\n",
       "      <td>\"Usuário 1</td>\n",
       "      <td>\"\"Minecraft: Story Mode: Season 1: \"\"\"\"The Ord...</td>\n",
       "      <td>userinput</td>\n",
       "      <td>Pular</td>\n",
       "      <td>false</td>\n",
       "      <td>android</td>\n",
       "      <td>2020-07-12 23:39:21\"\\n</td>\n",
       "    </tr>\n",
       "    <tr>\n",
       "      <th>2</th>\n",
       "      <td>\"Usuário 1</td>\n",
       "      <td>\"\"Minecraft: Story Mode: Season 1: \"\"\"\"The Ord...</td>\n",
       "      <td>userinput</td>\n",
       "      <td>Construir espada</td>\n",
       "      <td>false</td>\n",
       "      <td>tvui</td>\n",
       "      <td>2020-07-12 15:31:56\"\\n</td>\n",
       "    </tr>\n",
       "    <tr>\n",
       "      <th>3</th>\n",
       "      <td>\"Usuário 1</td>\n",
       "      <td>\"\"Minecraft: Story Mode: Season 1: \"\"\"\"The Ord...</td>\n",
       "      <td>userinput</td>\n",
       "      <td>TÃ´ dentro.</td>\n",
       "      <td>false</td>\n",
       "      <td>tvui</td>\n",
       "      <td>2020-07-12 15:30:57\"\\n</td>\n",
       "    </tr>\n",
       "    <tr>\n",
       "      <th>4</th>\n",
       "      <td>Usuário 1,\"Minecraft: Story Mode: Season 1: \"\"...</td>\n",
       "      <td>NaN</td>\n",
       "      <td>NaN</td>\n",
       "      <td>NaN</td>\n",
       "      <td>NaN</td>\n",
       "      <td>NaN</td>\n",
       "      <td>NaN</td>\n",
       "    </tr>\n",
       "    <tr>\n",
       "      <th>5</th>\n",
       "      <td>\"Usuário 1</td>\n",
       "      <td>\"\"Minecraft: Story Mode: Season 1: \"\"\"\"The Ord...</td>\n",
       "      <td>userinput</td>\n",
       "      <td>Grama alta</td>\n",
       "      <td>false</td>\n",
       "      <td>tvui</td>\n",
       "      <td>2020-07-12 15:27:10\"\\n</td>\n",
       "    </tr>\n",
       "    <tr>\n",
       "      <th>6</th>\n",
       "      <td>\"Usuário 1</td>\n",
       "      <td>\"\"Minecraft: Story Mode: Season 1: \"\"\"\"The Ord...</td>\n",
       "      <td>userinput</td>\n",
       "      <td>Arbusto</td>\n",
       "      <td>false</td>\n",
       "      <td>tvui</td>\n",
       "      <td>2020-07-12 15:26:51\"\\n</td>\n",
       "    </tr>\n",
       "    <tr>\n",
       "      <th>7</th>\n",
       "      <td>\"Usuário 1</td>\n",
       "      <td>\"\"Minecraft: Story Mode: Season 1: \"\"\"\"The Ord...</td>\n",
       "      <td>userinput</td>\n",
       "      <td>Trilha de fumaÃ§a</td>\n",
       "      <td>false</td>\n",
       "      <td>tvui</td>\n",
       "      <td>2020-07-12 15:26:27\"\\n</td>\n",
       "    </tr>\n",
       "    <tr>\n",
       "      <th>8</th>\n",
       "      <td>\"Usuário 1</td>\n",
       "      <td>\"\"Minecraft: Story Mode: Season 1: \"\"\"\"The Ord...</td>\n",
       "      <td>userinput</td>\n",
       "      <td>O poÃ§o</td>\n",
       "      <td>false</td>\n",
       "      <td>tvui</td>\n",
       "      <td>2020-07-12 15:25:57\"\\n</td>\n",
       "    </tr>\n",
       "    <tr>\n",
       "      <th>9</th>\n",
       "      <td>\"Usuário 1</td>\n",
       "      <td>\"\"Minecraft: Story Mode: Season 1: \"\"\"\"The Ord...</td>\n",
       "      <td>userinput</td>\n",
       "      <td>Chicote do Guerreiro</td>\n",
       "      <td>false</td>\n",
       "      <td>tvui</td>\n",
       "      <td>2020-07-12 15:23:09\"\\n</td>\n",
       "    </tr>\n",
       "  </tbody>\n",
       "</table>\n",
       "</div>"
      ],
      "text/plain": [
       "                                        Profile Name  \\\n",
       "0                                         \"Usuário 1   \n",
       "1                                         \"Usuário 1   \n",
       "2                                         \"Usuário 1   \n",
       "3                                         \"Usuário 1   \n",
       "4  Usuário 1,\"Minecraft: Story Mode: Season 1: \"\"...   \n",
       "5                                         \"Usuário 1   \n",
       "6                                         \"Usuário 1   \n",
       "7                                         \"Usuário 1   \n",
       "8                                         \"Usuário 1   \n",
       "9                                         \"Usuário 1   \n",
       "\n",
       "                                          Title Desc Selection Type  \\\n",
       "0  \"\"Minecraft: Story Mode: Season 1: \"\"\"\"The Ord...      userinput   \n",
       "1  \"\"Minecraft: Story Mode: Season 1: \"\"\"\"The Ord...      userinput   \n",
       "2  \"\"Minecraft: Story Mode: Season 1: \"\"\"\"The Ord...      userinput   \n",
       "3  \"\"Minecraft: Story Mode: Season 1: \"\"\"\"The Ord...      userinput   \n",
       "4                                                NaN            NaN   \n",
       "5  \"\"Minecraft: Story Mode: Season 1: \"\"\"\"The Ord...      userinput   \n",
       "6  \"\"Minecraft: Story Mode: Season 1: \"\"\"\"The Ord...      userinput   \n",
       "7  \"\"Minecraft: Story Mode: Season 1: \"\"\"\"The Ord...      userinput   \n",
       "8  \"\"Minecraft: Story Mode: Season 1: \"\"\"\"The Ord...      userinput   \n",
       "9  \"\"Minecraft: Story Mode: Season 1: \"\"\"\"The Ord...      userinput   \n",
       "\n",
       "        Choice Segment Id Has Watched   Source           Utc Timestamp  \n",
       "0  Que orgulho de vocÃªs.       false  android  2020-07-12 23:41:38\"\\n  \n",
       "1                   Pular       false  android  2020-07-12 23:39:21\"\\n  \n",
       "2        Construir espada       false     tvui  2020-07-12 15:31:56\"\\n  \n",
       "3             TÃ´ dentro.       false     tvui  2020-07-12 15:30:57\"\\n  \n",
       "4                     NaN         NaN      NaN                     NaN  \n",
       "5              Grama alta       false     tvui  2020-07-12 15:27:10\"\\n  \n",
       "6                 Arbusto       false     tvui  2020-07-12 15:26:51\"\\n  \n",
       "7       Trilha de fumaÃ§a       false     tvui  2020-07-12 15:26:27\"\\n  \n",
       "8                 O poÃ§o       false     tvui  2020-07-12 15:25:57\"\\n  \n",
       "9    Chicote do Guerreiro       false     tvui  2020-07-12 15:23:09\"\\n  "
      ]
     },
     "execution_count": 31,
     "metadata": {},
     "output_type": "execute_result"
    }
   ],
   "source": [
    "df_titles.head(10)"
   ]
  },
  {
   "cell_type": "code",
   "execution_count": 32,
   "id": "4cd0d78e-579a-4ec0-a29b-31f21e8c47de",
   "metadata": {},
   "outputs": [],
   "source": [
    "df_titles['Profile Name'] = df_titles['Profile Name'].astype(str).str.replace('\"', '')"
   ]
  },
  {
   "cell_type": "code",
   "execution_count": 33,
   "id": "b3df07bc-1f1d-4d71-a622-adbfb2087646",
   "metadata": {},
   "outputs": [],
   "source": [
    "df_titles['Utc Timestamp'] = df_titles['Utc Timestamp'].astype(str).str.replace('\\n', '')\n"
   ]
  },
  {
   "cell_type": "code",
   "execution_count": 34,
   "id": "0a35bd29-b9e0-4191-9c53-682892d43283",
   "metadata": {},
   "outputs": [],
   "source": [
    "df_titles['Utc Timestamp'] = df_titles['Utc Timestamp'].astype(str).str.replace('\"', '')\n"
   ]
  },
  {
   "cell_type": "code",
   "execution_count": 35,
   "id": "172c461b-79ec-4aa4-adf0-69b5e29235f8",
   "metadata": {},
   "outputs": [],
   "source": [
    "df_titles['Title Desc'] = df_titles['Title Desc'].astype(str).str.replace('\"', '')"
   ]
  },
  {
   "cell_type": "code",
   "execution_count": 36,
   "id": "dd28975a-4062-4a31-b22d-345040cfe07b",
   "metadata": {},
   "outputs": [
    {
     "data": {
      "text/html": [
       "<div>\n",
       "<style scoped>\n",
       "    .dataframe tbody tr th:only-of-type {\n",
       "        vertical-align: middle;\n",
       "    }\n",
       "\n",
       "    .dataframe tbody tr th {\n",
       "        vertical-align: top;\n",
       "    }\n",
       "\n",
       "    .dataframe thead th {\n",
       "        text-align: right;\n",
       "    }\n",
       "</style>\n",
       "<table border=\"1\" class=\"dataframe\">\n",
       "  <thead>\n",
       "    <tr style=\"text-align: right;\">\n",
       "      <th></th>\n",
       "      <th>Profile Name</th>\n",
       "      <th>Title Desc</th>\n",
       "      <th>Selection Type</th>\n",
       "      <th>Choice Segment Id</th>\n",
       "      <th>Has Watched</th>\n",
       "      <th>Source</th>\n",
       "      <th>Utc Timestamp</th>\n",
       "    </tr>\n",
       "  </thead>\n",
       "  <tbody>\n",
       "    <tr>\n",
       "      <th>0</th>\n",
       "      <td>Usuário 1</td>\n",
       "      <td>Minecraft: Story Mode: Season 1: The Order of ...</td>\n",
       "      <td>userinput</td>\n",
       "      <td>Que orgulho de vocÃªs.</td>\n",
       "      <td>false</td>\n",
       "      <td>android</td>\n",
       "      <td>2020-07-12 23:41:38</td>\n",
       "    </tr>\n",
       "    <tr>\n",
       "      <th>1</th>\n",
       "      <td>Usuário 1</td>\n",
       "      <td>Minecraft: Story Mode: Season 1: The Order of ...</td>\n",
       "      <td>userinput</td>\n",
       "      <td>Pular</td>\n",
       "      <td>false</td>\n",
       "      <td>android</td>\n",
       "      <td>2020-07-12 23:39:21</td>\n",
       "    </tr>\n",
       "    <tr>\n",
       "      <th>2</th>\n",
       "      <td>Usuário 1</td>\n",
       "      <td>Minecraft: Story Mode: Season 1: The Order of ...</td>\n",
       "      <td>userinput</td>\n",
       "      <td>Construir espada</td>\n",
       "      <td>false</td>\n",
       "      <td>tvui</td>\n",
       "      <td>2020-07-12 15:31:56</td>\n",
       "    </tr>\n",
       "    <tr>\n",
       "      <th>3</th>\n",
       "      <td>Usuário 1</td>\n",
       "      <td>Minecraft: Story Mode: Season 1: The Order of ...</td>\n",
       "      <td>userinput</td>\n",
       "      <td>TÃ´ dentro.</td>\n",
       "      <td>false</td>\n",
       "      <td>tvui</td>\n",
       "      <td>2020-07-12 15:30:57</td>\n",
       "    </tr>\n",
       "    <tr>\n",
       "      <th>4</th>\n",
       "      <td>Usuário 1,Minecraft: Story Mode: Season 1: The...</td>\n",
       "      <td>nan</td>\n",
       "      <td>NaN</td>\n",
       "      <td>NaN</td>\n",
       "      <td>NaN</td>\n",
       "      <td>NaN</td>\n",
       "      <td>nan</td>\n",
       "    </tr>\n",
       "  </tbody>\n",
       "</table>\n",
       "</div>"
      ],
      "text/plain": [
       "                                        Profile Name  \\\n",
       "0                                          Usuário 1   \n",
       "1                                          Usuário 1   \n",
       "2                                          Usuário 1   \n",
       "3                                          Usuário 1   \n",
       "4  Usuário 1,Minecraft: Story Mode: Season 1: The...   \n",
       "\n",
       "                                          Title Desc Selection Type  \\\n",
       "0  Minecraft: Story Mode: Season 1: The Order of ...      userinput   \n",
       "1  Minecraft: Story Mode: Season 1: The Order of ...      userinput   \n",
       "2  Minecraft: Story Mode: Season 1: The Order of ...      userinput   \n",
       "3  Minecraft: Story Mode: Season 1: The Order of ...      userinput   \n",
       "4                                                nan            NaN   \n",
       "\n",
       "        Choice Segment Id Has Watched   Source        Utc Timestamp  \n",
       "0  Que orgulho de vocÃªs.       false  android  2020-07-12 23:41:38  \n",
       "1                   Pular       false  android  2020-07-12 23:39:21  \n",
       "2        Construir espada       false     tvui  2020-07-12 15:31:56  \n",
       "3             TÃ´ dentro.       false     tvui  2020-07-12 15:30:57  \n",
       "4                     NaN         NaN      NaN                  nan  "
      ]
     },
     "execution_count": 36,
     "metadata": {},
     "output_type": "execute_result"
    }
   ],
   "source": [
    "df_titles.head()"
   ]
  },
  {
   "cell_type": "code",
   "execution_count": 37,
   "id": "e4c7e5a2-8ff5-474f-8f0a-fc2613007952",
   "metadata": {},
   "outputs": [
    {
     "data": {
      "text/plain": [
       "Usuário 1                                                                                                                                 51\n",
       "Usuário 3                                                                                                                                 45\n",
       "Usuário 1,Minecraft: Story Mode: Season 1: The Order of the Stone,userinput,Fique perto, protejo vocÃª.,false,tvui,2020-07-12 15:28:37     1\n",
       "Usuário 1,Minecraft: Story Mode: Season 1: The Order of the Stone,userinput,Ah, moleza.,false,tvui,2020-07-09 22:09:48                     1\n",
       "Usuário 1,Minecraft: Story Mode: Season 1: The Order of the Stone,userinput,NÃ£o foi engraÃ§ado, Axel.,false,tvui,2020-07-09 22:07:36      1\n",
       "Usuário 1,Minecraft: Story Mode: Season 1: The Order of the Stone,userinput,Fique perto, protejo vocÃª.,false,tvui,2019-12-09 16:48:06     1\n",
       "Usuário 1,Minecraft: Story Mode: Season 1: The Order of the Stone,default,Ah, moleza.,false,tvui,2019-12-09 16:33:57                       1\n",
       "Usuário 1,Minecraft: Story Mode: Season 1: The Order of the Stone,userinput,NÃ£o foi engraÃ§ado, Axel.,false,tvui,2019-12-09 16:31:26      1\n",
       "Name: Profile Name, dtype: int64"
      ]
     },
     "execution_count": 37,
     "metadata": {},
     "output_type": "execute_result"
    }
   ],
   "source": [
    "df_titles['Profile Name'].value_counts()"
   ]
  },
  {
   "cell_type": "code",
   "execution_count": 38,
   "id": "5cf3e7dd-48d4-47fa-a3ab-d630d660b481",
   "metadata": {},
   "outputs": [
    {
     "data": {
      "text/html": [
       "<div>\n",
       "<style scoped>\n",
       "    .dataframe tbody tr th:only-of-type {\n",
       "        vertical-align: middle;\n",
       "    }\n",
       "\n",
       "    .dataframe tbody tr th {\n",
       "        vertical-align: top;\n",
       "    }\n",
       "\n",
       "    .dataframe thead th {\n",
       "        text-align: right;\n",
       "    }\n",
       "</style>\n",
       "<table border=\"1\" class=\"dataframe\">\n",
       "  <thead>\n",
       "    <tr style=\"text-align: right;\">\n",
       "      <th></th>\n",
       "      <th>Profile Name</th>\n",
       "      <th>Title Desc</th>\n",
       "      <th>Selection Type</th>\n",
       "      <th>Choice Segment Id</th>\n",
       "      <th>Has Watched</th>\n",
       "      <th>Source</th>\n",
       "      <th>Utc Timestamp</th>\n",
       "    </tr>\n",
       "  </thead>\n",
       "  <tbody>\n",
       "    <tr>\n",
       "      <th>97</th>\n",
       "      <td>Usuário 3</td>\n",
       "      <td>Black Mirror: Bandersnatch</td>\n",
       "      <td>userinput</td>\n",
       "      <td></td>\n",
       "      <td>false</td>\n",
       "      <td>tvui</td>\n",
       "      <td>2019-01-01 14:58:28</td>\n",
       "    </tr>\n",
       "    <tr>\n",
       "      <th>98</th>\n",
       "      <td>Usuário 3</td>\n",
       "      <td>Black Mirror: Bandersnatch</td>\n",
       "      <td>userinput</td>\n",
       "      <td></td>\n",
       "      <td>false</td>\n",
       "      <td>tvui</td>\n",
       "      <td>2019-01-01 14:54:36</td>\n",
       "    </tr>\n",
       "    <tr>\n",
       "      <th>99</th>\n",
       "      <td>Usuário 3</td>\n",
       "      <td>Black Mirror: Bandersnatch</td>\n",
       "      <td>userinput</td>\n",
       "      <td>AGORA 2</td>\n",
       "      <td>false</td>\n",
       "      <td>tvui</td>\n",
       "      <td>2019-01-01 14:50:02</td>\n",
       "    </tr>\n",
       "    <tr>\n",
       "      <th>100</th>\n",
       "      <td>Usuário 3</td>\n",
       "      <td>Black Mirror: Bandersnatch</td>\n",
       "      <td>userinput</td>\n",
       "      <td>SUCRILHOS</td>\n",
       "      <td>false</td>\n",
       "      <td>tvui</td>\n",
       "      <td>2019-01-01 14:49:06</td>\n",
       "    </tr>\n",
       "    <tr>\n",
       "      <th>101</th>\n",
       "      <td>Usuário 3</td>\n",
       "      <td>Black Mirror: Bandersnatch - Remote Control Tu...</td>\n",
       "      <td>userinput</td>\n",
       "      <td></td>\n",
       "      <td>false</td>\n",
       "      <td>tvui</td>\n",
       "      <td>2019-01-01 14:46:31</td>\n",
       "    </tr>\n",
       "  </tbody>\n",
       "</table>\n",
       "</div>"
      ],
      "text/plain": [
       "    Profile Name                                         Title Desc  \\\n",
       "97     Usuário 3                         Black Mirror: Bandersnatch   \n",
       "98     Usuário 3                         Black Mirror: Bandersnatch   \n",
       "99     Usuário 3                         Black Mirror: Bandersnatch   \n",
       "100    Usuário 3                         Black Mirror: Bandersnatch   \n",
       "101    Usuário 3  Black Mirror: Bandersnatch - Remote Control Tu...   \n",
       "\n",
       "    Selection Type Choice Segment Id Has Watched Source        Utc Timestamp  \n",
       "97       userinput                         false   tvui  2019-01-01 14:58:28  \n",
       "98       userinput                         false   tvui  2019-01-01 14:54:36  \n",
       "99       userinput           AGORA 2       false   tvui  2019-01-01 14:50:02  \n",
       "100      userinput         SUCRILHOS       false   tvui  2019-01-01 14:49:06  \n",
       "101      userinput                         false   tvui  2019-01-01 14:46:31  "
      ]
     },
     "execution_count": 38,
     "metadata": {},
     "output_type": "execute_result"
    }
   ],
   "source": [
    "df_titles.tail()"
   ]
  },
  {
   "cell_type": "code",
   "execution_count": 39,
   "id": "fa7e4506-b154-4731-b00c-5c0a8fbd9e77",
   "metadata": {},
   "outputs": [
    {
     "data": {
      "text/plain": [
       "0                                              Usuário 1\n",
       "1                                              Usuário 1\n",
       "2                                              Usuário 1\n",
       "3                                              Usuário 1\n",
       "4      Usuário 1,Minecraft: Story Mode: Season 1: The...\n",
       "                             ...                        \n",
       "97                                             Usuário 3\n",
       "98                                             Usuário 3\n",
       "99                                             Usuário 3\n",
       "100                                            Usuário 3\n",
       "101                                            Usuário 3\n",
       "Name: Profile Name, Length: 102, dtype: object"
      ]
     },
     "execution_count": 39,
     "metadata": {},
     "output_type": "execute_result"
    }
   ],
   "source": [
    "df_titles['Profile Name']"
   ]
  },
  {
   "cell_type": "code",
   "execution_count": 40,
   "id": "c6579a7f-22e7-4576-927e-8a2a250ccf00",
   "metadata": {},
   "outputs": [
    {
     "data": {
      "text/plain": [
       "(102, 7)"
      ]
     },
     "execution_count": 40,
     "metadata": {},
     "output_type": "execute_result"
    }
   ],
   "source": [
    "df_titles.shape"
   ]
  },
  {
   "cell_type": "code",
   "execution_count": 41,
   "id": "9e91cc05-b62d-40b8-88e6-e315f8fc437e",
   "metadata": {},
   "outputs": [
    {
     "name": "stdout",
     "output_type": "stream",
     "text": [
      "<class 'pandas.core.frame.DataFrame'>\n",
      "RangeIndex: 102 entries, 0 to 101\n",
      "Data columns (total 7 columns):\n",
      " #   Column             Non-Null Count  Dtype \n",
      "---  ------             --------------  ----- \n",
      " 0   Profile Name       102 non-null    object\n",
      " 1   Title Desc         102 non-null    object\n",
      " 2   Selection Type     96 non-null     object\n",
      " 3   Choice Segment Id  96 non-null     object\n",
      " 4   Has Watched        96 non-null     object\n",
      " 5   Source             96 non-null     object\n",
      " 6   Utc Timestamp      102 non-null    object\n",
      "dtypes: object(7)\n",
      "memory usage: 5.7+ KB\n"
     ]
    }
   ],
   "source": [
    "df_titles.info()"
   ]
  },
  {
   "cell_type": "markdown",
   "id": "a72b7476-5293-4077-846c-5b7d8728fc49",
   "metadata": {},
   "source": [
    "### _________________________________________________________________________________________________________________________"
   ]
  },
  {
   "cell_type": "markdown",
   "id": "615c331f-f1da-45c5-9987-c6af84e6be91",
   "metadata": {},
   "source": [
    "# Arquivo MyList"
   ]
  },
  {
   "cell_type": "code",
   "execution_count": 42,
   "id": "9c21e53d-bfdf-40b2-b2fe-f095952b6c3d",
   "metadata": {},
   "outputs": [],
   "source": [
    "df_list = pd.read_csv('netflix/MyList.csv', encoding='latin-1')"
   ]
  },
  {
   "cell_type": "code",
   "execution_count": 43,
   "id": "a6b565f2-ebfa-4050-b10f-c809c4b9d97b",
   "metadata": {},
   "outputs": [
    {
     "data": {
      "text/html": [
       "<div>\n",
       "<style scoped>\n",
       "    .dataframe tbody tr th:only-of-type {\n",
       "        vertical-align: middle;\n",
       "    }\n",
       "\n",
       "    .dataframe tbody tr th {\n",
       "        vertical-align: top;\n",
       "    }\n",
       "\n",
       "    .dataframe thead th {\n",
       "        text-align: right;\n",
       "    }\n",
       "</style>\n",
       "<table border=\"1\" class=\"dataframe\">\n",
       "  <thead>\n",
       "    <tr style=\"text-align: right;\">\n",
       "      <th></th>\n",
       "      <th>Profile Name</th>\n",
       "      <th>Title Name</th>\n",
       "      <th>Country</th>\n",
       "      <th>Utc Title Add Date</th>\n",
       "    </tr>\n",
       "  </thead>\n",
       "  <tbody>\n",
       "    <tr>\n",
       "      <th>0</th>\n",
       "      <td>Usuário 2</td>\n",
       "      <td>Lupin</td>\n",
       "      <td>Brazil</td>\n",
       "      <td>2021-02-12</td>\n",
       "    </tr>\n",
       "    <tr>\n",
       "      <th>1</th>\n",
       "      <td>Usuário 2</td>\n",
       "      <td>Outside the Wire</td>\n",
       "      <td>Brazil</td>\n",
       "      <td>2021-01-06</td>\n",
       "    </tr>\n",
       "    <tr>\n",
       "      <th>2</th>\n",
       "      <td>Usuário 2</td>\n",
       "      <td>Bridgerton</td>\n",
       "      <td>Brazil</td>\n",
       "      <td>2021-01-01</td>\n",
       "    </tr>\n",
       "    <tr>\n",
       "      <th>3</th>\n",
       "      <td>Usuário 2</td>\n",
       "      <td>Mystery Lab</td>\n",
       "      <td>Brazil</td>\n",
       "      <td>2020-08-12</td>\n",
       "    </tr>\n",
       "    <tr>\n",
       "      <th>4</th>\n",
       "      <td>Usuário 2</td>\n",
       "      <td>Mystery Lab</td>\n",
       "      <td>Brazil</td>\n",
       "      <td>2020-07-27</td>\n",
       "    </tr>\n",
       "  </tbody>\n",
       "</table>\n",
       "</div>"
      ],
      "text/plain": [
       "  Profile Name        Title Name Country Utc Title Add Date\n",
       "0    Usuário 2             Lupin  Brazil         2021-02-12\n",
       "1    Usuário 2  Outside the Wire  Brazil         2021-01-06\n",
       "2    Usuário 2        Bridgerton  Brazil         2021-01-01\n",
       "3    Usuário 2       Mystery Lab  Brazil         2020-08-12\n",
       "4    Usuário 2       Mystery Lab  Brazil         2020-07-27"
      ]
     },
     "execution_count": 43,
     "metadata": {},
     "output_type": "execute_result"
    }
   ],
   "source": [
    "df_list.head()"
   ]
  },
  {
   "cell_type": "code",
   "execution_count": 44,
   "id": "19361296-a849-4273-b525-89967e2d525f",
   "metadata": {},
   "outputs": [
    {
     "data": {
      "text/plain": [
       "(61, 4)"
      ]
     },
     "execution_count": 44,
     "metadata": {},
     "output_type": "execute_result"
    }
   ],
   "source": [
    "df_list.shape"
   ]
  },
  {
   "cell_type": "code",
   "execution_count": 45,
   "id": "cd880afd-f5e9-4133-bb1f-9517c03104db",
   "metadata": {},
   "outputs": [
    {
     "name": "stdout",
     "output_type": "stream",
     "text": [
      "<class 'pandas.core.frame.DataFrame'>\n",
      "RangeIndex: 61 entries, 0 to 60\n",
      "Data columns (total 4 columns):\n",
      " #   Column              Non-Null Count  Dtype \n",
      "---  ------              --------------  ----- \n",
      " 0   Profile Name        61 non-null     object\n",
      " 1   Title Name          59 non-null     object\n",
      " 2   Country             59 non-null     object\n",
      " 3   Utc Title Add Date  59 non-null     object\n",
      "dtypes: object(4)\n",
      "memory usage: 2.0+ KB\n"
     ]
    }
   ],
   "source": [
    "df_list.info()"
   ]
  },
  {
   "cell_type": "markdown",
   "id": "55d3091d-d156-40ba-85aa-9177e40249b6",
   "metadata": {},
   "source": [
    "### Talvez dê pra usar."
   ]
  },
  {
   "cell_type": "markdown",
   "id": "766b4b0e-e95e-42af-8b70-f3bbf7d3e531",
   "metadata": {},
   "source": [
    "### _________________________________________________________________________________________________________________________"
   ]
  },
  {
   "cell_type": "markdown",
   "id": "b8021535-71c9-4ff8-8ddb-4a3fd582e78a",
   "metadata": {},
   "source": [
    "# Arquivo Playblack Related Events"
   ]
  },
  {
   "cell_type": "code",
   "execution_count": 46,
   "id": "65d38613-f156-454c-82bf-13f36a20c3a1",
   "metadata": {},
   "outputs": [],
   "source": [
    "df_playback = pd.read_csv('netflix/PlaybackRelatedEvents.csv', encoding='latin-1')"
   ]
  },
  {
   "cell_type": "code",
   "execution_count": 47,
   "id": "7943a813-8cd5-4952-9973-b732240361a0",
   "metadata": {},
   "outputs": [
    {
     "data": {
      "text/html": [
       "<div>\n",
       "<style scoped>\n",
       "    .dataframe tbody tr th:only-of-type {\n",
       "        vertical-align: middle;\n",
       "    }\n",
       "\n",
       "    .dataframe tbody tr th {\n",
       "        vertical-align: top;\n",
       "    }\n",
       "\n",
       "    .dataframe thead th {\n",
       "        text-align: right;\n",
       "    }\n",
       "</style>\n",
       "<table border=\"1\" class=\"dataframe\">\n",
       "  <thead>\n",
       "    <tr style=\"text-align: right;\">\n",
       "      <th></th>\n",
       "      <th>Profile Name</th>\n",
       "      <th>Title Description</th>\n",
       "      <th>Device</th>\n",
       "      <th>Playback Start Utc Ts</th>\n",
       "      <th>Country</th>\n",
       "      <th>Playtraces</th>\n",
       "    </tr>\n",
       "  </thead>\n",
       "  <tbody>\n",
       "    <tr>\n",
       "      <th>0</th>\n",
       "      <td>Usuário 1,\"Dragons: Race to the Edge: Season 1...</td>\n",
       "      <td>NaN</td>\n",
       "      <td>NaN</td>\n",
       "      <td>NaN</td>\n",
       "      <td>NaN</td>\n",
       "      <td>NaN</td>\n",
       "    </tr>\n",
       "    <tr>\n",
       "      <th>1</th>\n",
       "      <td>Usuário 1,\"Dragons: Race to the Edge: Season 1...</td>\n",
       "      <td>NaN</td>\n",
       "      <td>NaN</td>\n",
       "      <td>NaN</td>\n",
       "      <td>NaN</td>\n",
       "      <td>NaN</td>\n",
       "    </tr>\n",
       "    <tr>\n",
       "      <th>2</th>\n",
       "      <td>Usuário 1,\"Dragons: Race to the Edge: Season 1...</td>\n",
       "      <td>NaN</td>\n",
       "      <td>NaN</td>\n",
       "      <td>NaN</td>\n",
       "      <td>NaN</td>\n",
       "      <td>NaN</td>\n",
       "    </tr>\n",
       "    <tr>\n",
       "      <th>3</th>\n",
       "      <td>Usuário 1,\"Dragons: Race to the Edge: Season 1...</td>\n",
       "      <td>NaN</td>\n",
       "      <td>NaN</td>\n",
       "      <td>NaN</td>\n",
       "      <td>NaN</td>\n",
       "      <td>NaN</td>\n",
       "    </tr>\n",
       "    <tr>\n",
       "      <th>4</th>\n",
       "      <td>Usuário 1,\"Dragons: Race to the Edge: Season 1...</td>\n",
       "      <td>NaN</td>\n",
       "      <td>NaN</td>\n",
       "      <td>NaN</td>\n",
       "      <td>NaN</td>\n",
       "      <td>NaN</td>\n",
       "    </tr>\n",
       "  </tbody>\n",
       "</table>\n",
       "</div>"
      ],
      "text/plain": [
       "                                        Profile Name Title Description Device  \\\n",
       "0  Usuário 1,\"Dragons: Race to the Edge: Season 1...               NaN    NaN   \n",
       "1  Usuário 1,\"Dragons: Race to the Edge: Season 1...               NaN    NaN   \n",
       "2  Usuário 1,\"Dragons: Race to the Edge: Season 1...               NaN    NaN   \n",
       "3  Usuário 1,\"Dragons: Race to the Edge: Season 1...               NaN    NaN   \n",
       "4  Usuário 1,\"Dragons: Race to the Edge: Season 1...               NaN    NaN   \n",
       "\n",
       "  Playback Start Utc Ts Country Playtraces  \n",
       "0                   NaN     NaN        NaN  \n",
       "1                   NaN     NaN        NaN  \n",
       "2                   NaN     NaN        NaN  \n",
       "3                   NaN     NaN        NaN  \n",
       "4                   NaN     NaN        NaN  "
      ]
     },
     "execution_count": 47,
     "metadata": {},
     "output_type": "execute_result"
    }
   ],
   "source": [
    "df_playback.head()"
   ]
  },
  {
   "cell_type": "code",
   "execution_count": 48,
   "id": "7d3fbc7f-45a3-4bfa-8e0e-6c0182e9fb5e",
   "metadata": {},
   "outputs": [
    {
     "name": "stdout",
     "output_type": "stream",
     "text": [
      "<class 'pandas.core.frame.DataFrame'>\n",
      "RangeIndex: 64 entries, 0 to 63\n",
      "Data columns (total 6 columns):\n",
      " #   Column                 Non-Null Count  Dtype \n",
      "---  ------                 --------------  ----- \n",
      " 0   Profile Name           64 non-null     object\n",
      " 1   Title Description      5 non-null      object\n",
      " 2   Device                 5 non-null      object\n",
      " 3   Playback Start Utc Ts  5 non-null      object\n",
      " 4   Country                5 non-null      object\n",
      " 5   Playtraces             5 non-null      object\n",
      "dtypes: object(6)\n",
      "memory usage: 3.1+ KB\n"
     ]
    }
   ],
   "source": [
    "df_playback.info()"
   ]
  },
  {
   "cell_type": "code",
   "execution_count": 49,
   "id": "c9246a1f-cfd0-4936-96fd-33a44ce0b75c",
   "metadata": {},
   "outputs": [],
   "source": [
    "arq_titles = open('netflix/InteractiveTitles.csv', 'r', encoding='latin-1')\n",
    "linhas_titles = arq_titles.readlines()"
   ]
  },
  {
   "cell_type": "markdown",
   "id": "6f4118fe-d637-4f67-8944-06f02f7484ae",
   "metadata": {},
   "source": [
    "### _________________________________________________________________________________________________________________________"
   ]
  },
  {
   "cell_type": "markdown",
   "id": "2f6358eb-495c-4c4e-bd4c-4b133e248f1d",
   "metadata": {},
   "source": [
    "# Arquivos Ratings"
   ]
  },
  {
   "cell_type": "code",
   "execution_count": 50,
   "id": "cbe13add-17d5-4879-90e5-b3d19076589b",
   "metadata": {},
   "outputs": [],
   "source": [
    "df_ratings = pd.read_csv('netflix/Ratings.csv', encoding='latin-1')"
   ]
  },
  {
   "cell_type": "code",
   "execution_count": 51,
   "id": "a1d3d138-6ae4-4d54-8187-479c00c77984",
   "metadata": {},
   "outputs": [
    {
     "data": {
      "text/html": [
       "<div>\n",
       "<style scoped>\n",
       "    .dataframe tbody tr th:only-of-type {\n",
       "        vertical-align: middle;\n",
       "    }\n",
       "\n",
       "    .dataframe tbody tr th {\n",
       "        vertical-align: top;\n",
       "    }\n",
       "\n",
       "    .dataframe thead th {\n",
       "        text-align: right;\n",
       "    }\n",
       "</style>\n",
       "<table border=\"1\" class=\"dataframe\">\n",
       "  <thead>\n",
       "    <tr style=\"text-align: right;\">\n",
       "      <th></th>\n",
       "      <th>Profile Name</th>\n",
       "      <th>Title Name</th>\n",
       "      <th>Rating Type</th>\n",
       "      <th>Star Value</th>\n",
       "      <th>Thumbs Value</th>\n",
       "      <th>Device Model</th>\n",
       "      <th>Event Utc Ts</th>\n",
       "      <th>Region View Date</th>\n",
       "    </tr>\n",
       "  </thead>\n",
       "  <tbody>\n",
       "    <tr>\n",
       "      <th>0</th>\n",
       "      <td>Usuário 1</td>\n",
       "      <td>True: Wonderful Wishes</td>\n",
       "      <td>thumb</td>\n",
       "      <td>NaN</td>\n",
       "      <td>2.0</td>\n",
       "      <td>Smart TV</td>\n",
       "      <td>2020-07-19 16:33:48</td>\n",
       "      <td>NaN</td>\n",
       "    </tr>\n",
       "    <tr>\n",
       "      <th>1</th>\n",
       "      <td>Usuário 1</td>\n",
       "      <td>How to Train Your Dragon</td>\n",
       "      <td>thumb</td>\n",
       "      <td>NaN</td>\n",
       "      <td>2.0</td>\n",
       "      <td>Smart TV</td>\n",
       "      <td>2020-07-09 21:31:35</td>\n",
       "      <td>NaN</td>\n",
       "    </tr>\n",
       "    <tr>\n",
       "      <th>2</th>\n",
       "      <td>Usuário 1</td>\n",
       "      <td>Oddbods</td>\n",
       "      <td>thumb</td>\n",
       "      <td>NaN</td>\n",
       "      <td>1.0</td>\n",
       "      <td>Smart TV</td>\n",
       "      <td>2020-01-07 17:44:41</td>\n",
       "      <td>NaN</td>\n",
       "    </tr>\n",
       "    <tr>\n",
       "      <th>3</th>\n",
       "      <td>Usuário 1</td>\n",
       "      <td>The SpongeBob SquarePants Movie</td>\n",
       "      <td>thumb</td>\n",
       "      <td>NaN</td>\n",
       "      <td>2.0</td>\n",
       "      <td>Smart TV</td>\n",
       "      <td>2020-01-04 19:00:21</td>\n",
       "      <td>NaN</td>\n",
       "    </tr>\n",
       "    <tr>\n",
       "      <th>4</th>\n",
       "      <td>Usuário 1</td>\n",
       "      <td>Cloudy with a Chance of Meatballs 2</td>\n",
       "      <td>thumb</td>\n",
       "      <td>NaN</td>\n",
       "      <td>2.0</td>\n",
       "      <td>Smart TV</td>\n",
       "      <td>2020-01-01 22:57:37</td>\n",
       "      <td>NaN</td>\n",
       "    </tr>\n",
       "    <tr>\n",
       "      <th>5</th>\n",
       "      <td>Usuário 1</td>\n",
       "      <td>Pup Star</td>\n",
       "      <td>thumb</td>\n",
       "      <td>NaN</td>\n",
       "      <td>2.0</td>\n",
       "      <td>Smart TV</td>\n",
       "      <td>2019-12-12 17:43:41</td>\n",
       "      <td>NaN</td>\n",
       "    </tr>\n",
       "    <tr>\n",
       "      <th>6</th>\n",
       "      <td>Usuário 2</td>\n",
       "      <td>Outside the Wire</td>\n",
       "      <td>thumb</td>\n",
       "      <td>NaN</td>\n",
       "      <td>2.0</td>\n",
       "      <td>Android Phone</td>\n",
       "      <td>2021-01-06 02:20:23</td>\n",
       "      <td>NaN</td>\n",
       "    </tr>\n",
       "    <tr>\n",
       "      <th>7</th>\n",
       "      <td>Usuário 2</td>\n",
       "      <td>Dark Desire</td>\n",
       "      <td>thumb</td>\n",
       "      <td>NaN</td>\n",
       "      <td>2.0</td>\n",
       "      <td>Smart TV</td>\n",
       "      <td>2021-01-02 01:16:02</td>\n",
       "      <td>NaN</td>\n",
       "    </tr>\n",
       "    <tr>\n",
       "      <th>8</th>\n",
       "      <td>Usuário 2</td>\n",
       "      <td>El DragÃ³n: Return of a Warrior</td>\n",
       "      <td>thumb</td>\n",
       "      <td>NaN</td>\n",
       "      <td>2.0</td>\n",
       "      <td>Android Phone</td>\n",
       "      <td>2020-09-06 05:08:04</td>\n",
       "      <td>NaN</td>\n",
       "    </tr>\n",
       "    <tr>\n",
       "      <th>9</th>\n",
       "      <td>Usuário 2</td>\n",
       "      <td>Despicable Me</td>\n",
       "      <td>thumb</td>\n",
       "      <td>NaN</td>\n",
       "      <td>2.0</td>\n",
       "      <td>Smart TV</td>\n",
       "      <td>2020-07-18 01:02:50</td>\n",
       "      <td>NaN</td>\n",
       "    </tr>\n",
       "  </tbody>\n",
       "</table>\n",
       "</div>"
      ],
      "text/plain": [
       "  Profile Name                           Title Name Rating Type  Star Value  \\\n",
       "0    Usuário 1               True: Wonderful Wishes       thumb         NaN   \n",
       "1    Usuário 1             How to Train Your Dragon       thumb         NaN   \n",
       "2    Usuário 1                              Oddbods       thumb         NaN   \n",
       "3    Usuário 1      The SpongeBob SquarePants Movie       thumb         NaN   \n",
       "4    Usuário 1  Cloudy with a Chance of Meatballs 2       thumb         NaN   \n",
       "5    Usuário 1                             Pup Star       thumb         NaN   \n",
       "6    Usuário 2                     Outside the Wire       thumb         NaN   \n",
       "7    Usuário 2                          Dark Desire       thumb         NaN   \n",
       "8    Usuário 2      El DragÃ³n: Return of a Warrior       thumb         NaN   \n",
       "9    Usuário 2                        Despicable Me       thumb         NaN   \n",
       "\n",
       "   Thumbs Value   Device Model         Event Utc Ts Region View Date  \n",
       "0           2.0       Smart TV  2020-07-19 16:33:48              NaN  \n",
       "1           2.0       Smart TV  2020-07-09 21:31:35              NaN  \n",
       "2           1.0       Smart TV  2020-01-07 17:44:41              NaN  \n",
       "3           2.0       Smart TV  2020-01-04 19:00:21              NaN  \n",
       "4           2.0       Smart TV  2020-01-01 22:57:37              NaN  \n",
       "5           2.0       Smart TV  2019-12-12 17:43:41              NaN  \n",
       "6           2.0  Android Phone  2021-01-06 02:20:23              NaN  \n",
       "7           2.0       Smart TV  2021-01-02 01:16:02              NaN  \n",
       "8           2.0  Android Phone  2020-09-06 05:08:04              NaN  \n",
       "9           2.0       Smart TV  2020-07-18 01:02:50              NaN  "
      ]
     },
     "execution_count": 51,
     "metadata": {},
     "output_type": "execute_result"
    }
   ],
   "source": [
    "df_ratings.head(10)"
   ]
  },
  {
   "cell_type": "code",
   "execution_count": 52,
   "id": "8f097c37-de27-42d7-94f7-a6032ac89f82",
   "metadata": {},
   "outputs": [
    {
     "data": {
      "text/plain": [
       "(100, 8)"
      ]
     },
     "execution_count": 52,
     "metadata": {},
     "output_type": "execute_result"
    }
   ],
   "source": [
    "df_ratings.shape"
   ]
  },
  {
   "cell_type": "code",
   "execution_count": 53,
   "id": "bebbb739-3ecf-4885-91d7-c8c4d3e2fab1",
   "metadata": {},
   "outputs": [
    {
     "name": "stdout",
     "output_type": "stream",
     "text": [
      "<class 'pandas.core.frame.DataFrame'>\n",
      "RangeIndex: 100 entries, 0 to 99\n",
      "Data columns (total 8 columns):\n",
      " #   Column            Non-Null Count  Dtype  \n",
      "---  ------            --------------  -----  \n",
      " 0   Profile Name      100 non-null    object \n",
      " 1   Title Name        96 non-null     object \n",
      " 2   Rating Type       96 non-null     object \n",
      " 3   Star Value        9 non-null      float64\n",
      " 4   Thumbs Value      96 non-null     float64\n",
      " 5   Device Model      96 non-null     object \n",
      " 6   Event Utc Ts      96 non-null     object \n",
      " 7   Region View Date  9 non-null      object \n",
      "dtypes: float64(2), object(6)\n",
      "memory usage: 6.4+ KB\n"
     ]
    }
   ],
   "source": [
    "df_ratings.info()"
   ]
  },
  {
   "cell_type": "code",
   "execution_count": 54,
   "id": "c14e79f6-4e41-4999-bd9f-bfdc19eff255",
   "metadata": {},
   "outputs": [
    {
     "data": {
      "text/plain": [
       "thumb    87\n",
       "star      9\n",
       "Name: Rating Type, dtype: int64"
      ]
     },
     "execution_count": 54,
     "metadata": {},
     "output_type": "execute_result"
    }
   ],
   "source": [
    "df_ratings['Rating Type'].value_counts()"
   ]
  },
  {
   "cell_type": "code",
   "execution_count": 55,
   "id": "45c2d934-0b3a-42de-af70-b22d2da1b58d",
   "metadata": {},
   "outputs": [
    {
     "data": {
      "text/plain": [
       "2.0    85\n",
       "1.0    11\n",
       "Name: Thumbs Value, dtype: int64"
      ]
     },
     "execution_count": 55,
     "metadata": {},
     "output_type": "execute_result"
    }
   ],
   "source": [
    "df_ratings['Thumbs Value'].value_counts()"
   ]
  },
  {
   "cell_type": "code",
   "execution_count": 56,
   "id": "3d5c0dc8-8c42-4bfb-b9b5-297ef666e24c",
   "metadata": {},
   "outputs": [
    {
     "data": {
      "text/plain": [
       "5.0    4\n",
       "3.0    3\n",
       "1.0    1\n",
       "4.0    1\n",
       "Name: Star Value, dtype: int64"
      ]
     },
     "execution_count": 56,
     "metadata": {},
     "output_type": "execute_result"
    }
   ],
   "source": [
    "df_ratings['Star Value'].value_counts()"
   ]
  },
  {
   "cell_type": "code",
   "execution_count": 57,
   "id": "a4fe73a7-7da2-40be-a42c-a6aa04f47d22",
   "metadata": {},
   "outputs": [
    {
     "data": {
      "text/plain": [
       "Smart TV         61\n",
       "Android Phone    29\n",
       "PS4               5\n",
       "iPhone            1\n",
       "Name: Device Model, dtype: int64"
      ]
     },
     "execution_count": 57,
     "metadata": {},
     "output_type": "execute_result"
    }
   ],
   "source": [
    "df_ratings['Device Model'].value_counts()"
   ]
  },
  {
   "cell_type": "code",
   "execution_count": null,
   "id": "771dd170-7e7e-40f6-a88e-2b9b969e8750",
   "metadata": {},
   "outputs": [],
   "source": []
  },
  {
   "cell_type": "code",
   "execution_count": 58,
   "id": "7a5ae81b-66c1-45c4-a63f-c54cf0facd98",
   "metadata": {},
   "outputs": [],
   "source": [
    "df_ratings.rename(columns={'Profile Name': 'usuario', 'Title Name': 'titulo_avaliado',\n",
    "                  'Rating Type': 'tipo_classificacao', 'Star Value': 'nota', \n",
    "                  'Thumbs Value': 'curtidas', 'Device Model': 'avaliado_via', \n",
    "                  'Event Utc Ts': 'data_hora'}, inplace=True)"
   ]
  },
  {
   "cell_type": "code",
   "execution_count": 59,
   "id": "3e9e0d6d-6b78-463a-b56f-4a2868e7311e",
   "metadata": {},
   "outputs": [],
   "source": [
    "df_ratings.to_csv('netflix-avaliacoes.csv', index=False)"
   ]
  },
  {
   "cell_type": "markdown",
   "id": "a7729ad0-8762-48c2-b5ed-aa4c7eadb675",
   "metadata": {},
   "source": [
    "# ________________________________________________________________________________"
   ]
  },
  {
   "cell_type": "markdown",
   "id": "3d1793be-1902-4594-a9b8-d3f2f57bd583",
   "metadata": {},
   "source": [
    "# Arquivo Viewing Activity"
   ]
  },
  {
   "cell_type": "code",
   "execution_count": 60,
   "id": "4695aeb9-8d0d-44ea-896b-e04a877d2a1b",
   "metadata": {},
   "outputs": [
    {
     "name": "stdout",
     "output_type": "stream",
     "text": [
      "<class 'list'>\n",
      "13610\n"
     ]
    }
   ],
   "source": [
    "arq = open('netflix/ViewingActivity.csv', 'r', encoding='latin-1')\n",
    "linhas_arq = arq.readlines()\n",
    "\n",
    "print(type(linhas_arq))\n",
    "print(len(linhas_arq))"
   ]
  },
  {
   "cell_type": "code",
   "execution_count": null,
   "id": "05746a36-9525-4023-9eab-5f6271afc040",
   "metadata": {},
   "outputs": [],
   "source": []
  },
  {
   "cell_type": "code",
   "execution_count": 61,
   "id": "aff6b776-27c4-4107-af24-1209ceabf80c",
   "metadata": {},
   "outputs": [],
   "source": [
    "lista_2 = [i.split(',') for i in linhas_arq]"
   ]
  },
  {
   "cell_type": "code",
   "execution_count": 62,
   "id": "6343fa20-8400-45aa-9a54-caafab2dbb6d",
   "metadata": {},
   "outputs": [
    {
     "data": {
      "text/plain": [
       "13610"
      ]
     },
     "execution_count": 62,
     "metadata": {},
     "output_type": "execute_result"
    }
   ],
   "source": [
    "len(lista_2)"
   ]
  },
  {
   "cell_type": "markdown",
   "id": "96d85ac8-3baa-4f96-9fae-9d69997660d4",
   "metadata": {},
   "source": [
    "#### Como não consegui carregar o arquivo, estou criando 10 colunas (de acordo com o PDF da Netflix sobre a tabela) para adicionar as linhas"
   ]
  },
  {
   "cell_type": "code",
   "execution_count": 63,
   "id": "f8a4e80e-63c4-42ba-8006-27a5df24ea8f",
   "metadata": {},
   "outputs": [
    {
     "data": {
      "text/html": [
       "<div>\n",
       "<style scoped>\n",
       "    .dataframe tbody tr th:only-of-type {\n",
       "        vertical-align: middle;\n",
       "    }\n",
       "\n",
       "    .dataframe tbody tr th {\n",
       "        vertical-align: top;\n",
       "    }\n",
       "\n",
       "    .dataframe thead th {\n",
       "        text-align: right;\n",
       "    }\n",
       "</style>\n",
       "<table border=\"1\" class=\"dataframe\">\n",
       "  <thead>\n",
       "    <tr style=\"text-align: right;\">\n",
       "      <th></th>\n",
       "      <th>1</th>\n",
       "      <th>2</th>\n",
       "      <th>3</th>\n",
       "      <th>4</th>\n",
       "      <th>5</th>\n",
       "      <th>6</th>\n",
       "      <th>7</th>\n",
       "      <th>8</th>\n",
       "      <th>9</th>\n",
       "      <th>10</th>\n",
       "    </tr>\n",
       "  </thead>\n",
       "  <tbody>\n",
       "  </tbody>\n",
       "</table>\n",
       "</div>"
      ],
      "text/plain": [
       "Empty DataFrame\n",
       "Columns: [1, 2, 3, 4, 5, 6, 7, 8, 9, 10]\n",
       "Index: []"
      ]
     },
     "execution_count": 63,
     "metadata": {},
     "output_type": "execute_result"
    }
   ],
   "source": [
    "df = pd.DataFrame(columns=['1', '2', '3', '4', '5', '6', '7', '8', '9', '10'])\n",
    "df"
   ]
  },
  {
   "cell_type": "code",
   "execution_count": 64,
   "id": "55770075-83b6-4891-9cb9-9e9e77f5d744",
   "metadata": {},
   "outputs": [],
   "source": [
    "for c in range(0, len(lista_2)):\n",
    "    if len(lista_2[c]) == 10:\n",
    "        df.loc[c] = lista_2[c]\n"
   ]
  },
  {
   "cell_type": "code",
   "execution_count": 65,
   "id": "1f55d2ac-d739-40c7-b577-a049d375a5b7",
   "metadata": {},
   "outputs": [
    {
     "data": {
      "text/html": [
       "<div>\n",
       "<style scoped>\n",
       "    .dataframe tbody tr th:only-of-type {\n",
       "        vertical-align: middle;\n",
       "    }\n",
       "\n",
       "    .dataframe tbody tr th {\n",
       "        vertical-align: top;\n",
       "    }\n",
       "\n",
       "    .dataframe thead th {\n",
       "        text-align: right;\n",
       "    }\n",
       "</style>\n",
       "<table border=\"1\" class=\"dataframe\">\n",
       "  <thead>\n",
       "    <tr style=\"text-align: right;\">\n",
       "      <th></th>\n",
       "      <th>1</th>\n",
       "      <th>2</th>\n",
       "      <th>3</th>\n",
       "      <th>4</th>\n",
       "      <th>5</th>\n",
       "      <th>6</th>\n",
       "      <th>7</th>\n",
       "      <th>8</th>\n",
       "      <th>9</th>\n",
       "      <th>10</th>\n",
       "    </tr>\n",
       "  </thead>\n",
       "  <tbody>\n",
       "    <tr>\n",
       "      <th>0</th>\n",
       "      <td>Profile Name</td>\n",
       "      <td>Start Time</td>\n",
       "      <td>Duration</td>\n",
       "      <td>Attributes</td>\n",
       "      <td>Title</td>\n",
       "      <td>Supplemental Video Type</td>\n",
       "      <td>Device Type</td>\n",
       "      <td>Bookmark</td>\n",
       "      <td>Latest Bookmark</td>\n",
       "      <td>Country;;;;;;;;;;;;\\n</td>\n",
       "    </tr>\n",
       "    <tr>\n",
       "      <th>1</th>\n",
       "      <td>Usu¨¢rio 1</td>\n",
       "      <td>2021-01-04 17:40:58</td>\n",
       "      <td>00:01:01</td>\n",
       "      <td></td>\n",
       "      <td>Em Busca do Vale Encantado</td>\n",
       "      <td></td>\n",
       "      <td>Samsung Novatek DTV Smart TV</td>\n",
       "      <td>00:01:01</td>\n",
       "      <td>00:01:01</td>\n",
       "      <td>BR (Brazil);;;;;;;;;;;;\\n</td>\n",
       "    </tr>\n",
       "    <tr>\n",
       "      <th>2</th>\n",
       "      <td>Usu¨¢rio 1</td>\n",
       "      <td>2021-01-04 17:32:40</td>\n",
       "      <td>00:06:04</td>\n",
       "      <td></td>\n",
       "      <td>Madagascar 2</td>\n",
       "      <td></td>\n",
       "      <td>Samsung Novatek DTV Smart TV</td>\n",
       "      <td>00:59:49</td>\n",
       "      <td>00:59:49</td>\n",
       "      <td>BR (Brazil);;;;;;;;;;;;\\n</td>\n",
       "    </tr>\n",
       "    <tr>\n",
       "      <th>3</th>\n",
       "      <td>Usu¨¢rio 1</td>\n",
       "      <td>2021-01-04 14:19:55</td>\n",
       "      <td>00:18:59</td>\n",
       "      <td>Autoplayed: user action: Unspecified;</td>\n",
       "      <td>A Estrela de BelÃ©m</td>\n",
       "      <td></td>\n",
       "      <td>AOC AOC 2016 MT5800 with no FRC Smart TV</td>\n",
       "      <td>00:18:59</td>\n",
       "      <td>00:18:59</td>\n",
       "      <td>BR (Brazil);;;;;;;;;;;\\n</td>\n",
       "    </tr>\n",
       "    <tr>\n",
       "      <th>4</th>\n",
       "      <td>Usu¨¢rio 1</td>\n",
       "      <td>2020-10-23 22:00:42</td>\n",
       "      <td>01:32:46</td>\n",
       "      <td></td>\n",
       "      <td>A Caminho da Lua</td>\n",
       "      <td></td>\n",
       "      <td>Samsung Novatek DTV Smart TV</td>\n",
       "      <td>01:30:01</td>\n",
       "      <td>01:30:01</td>\n",
       "      <td>BR (Brazil);;;;;;;;;;;;\\n</td>\n",
       "    </tr>\n",
       "  </tbody>\n",
       "</table>\n",
       "</div>"
      ],
      "text/plain": [
       "              1                    2         3  \\\n",
       "0  Profile Name           Start Time  Duration   \n",
       "1    Usu¨¢rio 1  2021-01-04 17:40:58  00:01:01   \n",
       "2    Usu¨¢rio 1  2021-01-04 17:32:40  00:06:04   \n",
       "3    Usu¨¢rio 1  2021-01-04 14:19:55  00:18:59   \n",
       "4    Usu¨¢rio 1  2020-10-23 22:00:42  01:32:46   \n",
       "\n",
       "                                        4                           5  \\\n",
       "0                              Attributes                       Title   \n",
       "1                                          Em Busca do Vale Encantado   \n",
       "2                                                        Madagascar 2   \n",
       "3  Autoplayed: user action: Unspecified;          A Estrela de BelÃ©m   \n",
       "4                                                    A Caminho da Lua   \n",
       "\n",
       "                         6                                         7  \\\n",
       "0  Supplemental Video Type                               Device Type   \n",
       "1                                       Samsung Novatek DTV Smart TV   \n",
       "2                                       Samsung Novatek DTV Smart TV   \n",
       "3                           AOC AOC 2016 MT5800 with no FRC Smart TV   \n",
       "4                                       Samsung Novatek DTV Smart TV   \n",
       "\n",
       "          8                9                         10  \n",
       "0  Bookmark  Latest Bookmark      Country;;;;;;;;;;;;\\n  \n",
       "1  00:01:01         00:01:01  BR (Brazil);;;;;;;;;;;;\\n  \n",
       "2  00:59:49         00:59:49  BR (Brazil);;;;;;;;;;;;\\n  \n",
       "3  00:18:59         00:18:59   BR (Brazil);;;;;;;;;;;\\n  \n",
       "4  01:30:01         01:30:01  BR (Brazil);;;;;;;;;;;;\\n  "
      ]
     },
     "execution_count": 65,
     "metadata": {},
     "output_type": "execute_result"
    }
   ],
   "source": [
    "df.head()"
   ]
  },
  {
   "cell_type": "code",
   "execution_count": 66,
   "id": "c716d11b-a2fb-4d5a-9657-04dcac3d60fa",
   "metadata": {},
   "outputs": [
    {
     "name": "stdout",
     "output_type": "stream",
     "text": [
      "<class 'pandas.core.frame.DataFrame'>\n",
      "Int64Index: 13120 entries, 0 to 13609\n",
      "Data columns (total 10 columns):\n",
      " #   Column  Non-Null Count  Dtype \n",
      "---  ------  --------------  ----- \n",
      " 0   1       13120 non-null  object\n",
      " 1   2       13120 non-null  object\n",
      " 2   3       13120 non-null  object\n",
      " 3   4       13120 non-null  object\n",
      " 4   5       13120 non-null  object\n",
      " 5   6       13120 non-null  object\n",
      " 6   7       13120 non-null  object\n",
      " 7   8       13120 non-null  object\n",
      " 8   9       13120 non-null  object\n",
      " 9   10      13120 non-null  object\n",
      "dtypes: object(10)\n",
      "memory usage: 1.1+ MB\n"
     ]
    }
   ],
   "source": [
    "df.info()"
   ]
  },
  {
   "cell_type": "code",
   "execution_count": 67,
   "id": "87488a28-4e1a-4669-9d60-eb5d84f7fb5c",
   "metadata": {},
   "outputs": [
    {
     "data": {
      "text/html": [
       "<div>\n",
       "<style scoped>\n",
       "    .dataframe tbody tr th:only-of-type {\n",
       "        vertical-align: middle;\n",
       "    }\n",
       "\n",
       "    .dataframe tbody tr th {\n",
       "        vertical-align: top;\n",
       "    }\n",
       "\n",
       "    .dataframe thead th {\n",
       "        text-align: right;\n",
       "    }\n",
       "</style>\n",
       "<table border=\"1\" class=\"dataframe\">\n",
       "  <thead>\n",
       "    <tr style=\"text-align: right;\">\n",
       "      <th></th>\n",
       "      <th>1</th>\n",
       "      <th>2</th>\n",
       "      <th>3</th>\n",
       "      <th>4</th>\n",
       "      <th>5</th>\n",
       "      <th>6</th>\n",
       "      <th>7</th>\n",
       "      <th>8</th>\n",
       "      <th>9</th>\n",
       "      <th>10</th>\n",
       "    </tr>\n",
       "  </thead>\n",
       "  <tbody>\n",
       "    <tr>\n",
       "      <th>0</th>\n",
       "      <td>Profile Name</td>\n",
       "      <td>Start Time</td>\n",
       "      <td>Duration</td>\n",
       "      <td>Attributes</td>\n",
       "      <td>Title</td>\n",
       "      <td>Supplemental Video Type</td>\n",
       "      <td>Device Type</td>\n",
       "      <td>Bookmark</td>\n",
       "      <td>Latest Bookmark</td>\n",
       "      <td>Country;;;;;;;;;;;;\\n</td>\n",
       "    </tr>\n",
       "    <tr>\n",
       "      <th>1</th>\n",
       "      <td>Usu¨¢rio 1</td>\n",
       "      <td>2021-01-04 17:40:58</td>\n",
       "      <td>00:01:01</td>\n",
       "      <td></td>\n",
       "      <td>Em Busca do Vale Encantado</td>\n",
       "      <td></td>\n",
       "      <td>Samsung Novatek DTV Smart TV</td>\n",
       "      <td>00:01:01</td>\n",
       "      <td>00:01:01</td>\n",
       "      <td>BR (Brazil);;;;;;;;;;;;\\n</td>\n",
       "    </tr>\n",
       "    <tr>\n",
       "      <th>2</th>\n",
       "      <td>Usu¨¢rio 1</td>\n",
       "      <td>2021-01-04 17:32:40</td>\n",
       "      <td>00:06:04</td>\n",
       "      <td></td>\n",
       "      <td>Madagascar 2</td>\n",
       "      <td></td>\n",
       "      <td>Samsung Novatek DTV Smart TV</td>\n",
       "      <td>00:59:49</td>\n",
       "      <td>00:59:49</td>\n",
       "      <td>BR (Brazil);;;;;;;;;;;;\\n</td>\n",
       "    </tr>\n",
       "    <tr>\n",
       "      <th>3</th>\n",
       "      <td>Usu¨¢rio 1</td>\n",
       "      <td>2021-01-04 14:19:55</td>\n",
       "      <td>00:18:59</td>\n",
       "      <td>Autoplayed: user action: Unspecified;</td>\n",
       "      <td>A Estrela de BelÃ©m</td>\n",
       "      <td></td>\n",
       "      <td>AOC AOC 2016 MT5800 with no FRC Smart TV</td>\n",
       "      <td>00:18:59</td>\n",
       "      <td>00:18:59</td>\n",
       "      <td>BR (Brazil);;;;;;;;;;;\\n</td>\n",
       "    </tr>\n",
       "    <tr>\n",
       "      <th>4</th>\n",
       "      <td>Usu¨¢rio 1</td>\n",
       "      <td>2020-10-23 22:00:42</td>\n",
       "      <td>01:32:46</td>\n",
       "      <td></td>\n",
       "      <td>A Caminho da Lua</td>\n",
       "      <td></td>\n",
       "      <td>Samsung Novatek DTV Smart TV</td>\n",
       "      <td>01:30:01</td>\n",
       "      <td>01:30:01</td>\n",
       "      <td>BR (Brazil);;;;;;;;;;;;\\n</td>\n",
       "    </tr>\n",
       "    <tr>\n",
       "      <th>...</th>\n",
       "      <td>...</td>\n",
       "      <td>...</td>\n",
       "      <td>...</td>\n",
       "      <td>...</td>\n",
       "      <td>...</td>\n",
       "      <td>...</td>\n",
       "      <td>...</td>\n",
       "      <td>...</td>\n",
       "      <td>...</td>\n",
       "      <td>...</td>\n",
       "    </tr>\n",
       "    <tr>\n",
       "      <th>13605</th>\n",
       "      <td>Usu¨¢rio 2</td>\n",
       "      <td>2015-08-02 01:42:27</td>\n",
       "      <td>00:00:16</td>\n",
       "      <td></td>\n",
       "      <td>Apenas Sexo</td>\n",
       "      <td></td>\n",
       "      <td>Mobile</td>\n",
       "      <td>00:29:10</td>\n",
       "      <td>00:29:10</td>\n",
       "      <td>BR (Brazil);;;;;;;;;;;;\\n</td>\n",
       "    </tr>\n",
       "    <tr>\n",
       "      <th>13606</th>\n",
       "      <td>Usu¨¢rio 2</td>\n",
       "      <td>2015-08-02 00:56:17</td>\n",
       "      <td>00:01:18</td>\n",
       "      <td></td>\n",
       "      <td>Secret Life of Babies</td>\n",
       "      <td></td>\n",
       "      <td>Mobile</td>\n",
       "      <td>00:03:50</td>\n",
       "      <td>00:03:50</td>\n",
       "      <td>BR (Brazil);;;;;;;;;;;;\\n</td>\n",
       "    </tr>\n",
       "    <tr>\n",
       "      <th>13607</th>\n",
       "      <td>Usu¨¢rio 2</td>\n",
       "      <td>2015-08-02 00:51:28</td>\n",
       "      <td>00:00:16</td>\n",
       "      <td></td>\n",
       "      <td>Apartment 23: Temporada 1: Piloto (EpisÃ³dio 1)</td>\n",
       "      <td></td>\n",
       "      <td>Mobile</td>\n",
       "      <td>00:06:00</td>\n",
       "      <td>00:06:00</td>\n",
       "      <td>BR (Brazil);;;;;;;;;;;;\\n</td>\n",
       "    </tr>\n",
       "    <tr>\n",
       "      <th>13608</th>\n",
       "      <td>Usu¨¢rio 2</td>\n",
       "      <td>2015-08-02 00:42:18</td>\n",
       "      <td>01:11:31</td>\n",
       "      <td></td>\n",
       "      <td>Ironias do amor</td>\n",
       "      <td></td>\n",
       "      <td>Samsung Novatek DTV Smart TV</td>\n",
       "      <td>01:14:14</td>\n",
       "      <td>Not latest view</td>\n",
       "      <td>BR (Brazil);;;;;;;;;;;;\\n</td>\n",
       "    </tr>\n",
       "    <tr>\n",
       "      <th>13609</th>\n",
       "      <td>Usu¨¢rio 2</td>\n",
       "      <td>2015-08-02 00:38:54</td>\n",
       "      <td>00:02:43</td>\n",
       "      <td></td>\n",
       "      <td>Ironias do amor</td>\n",
       "      <td></td>\n",
       "      <td>Samsung Novatek DTV Smart TV</td>\n",
       "      <td>00:02:43</td>\n",
       "      <td>Not latest view</td>\n",
       "      <td>BR (Brazil);;;;;;;;;;;;\\n</td>\n",
       "    </tr>\n",
       "  </tbody>\n",
       "</table>\n",
       "<p>13120 rows × 10 columns</p>\n",
       "</div>"
      ],
      "text/plain": [
       "                  1                    2         3  \\\n",
       "0      Profile Name           Start Time  Duration   \n",
       "1        Usu¨¢rio 1  2021-01-04 17:40:58  00:01:01   \n",
       "2        Usu¨¢rio 1  2021-01-04 17:32:40  00:06:04   \n",
       "3        Usu¨¢rio 1  2021-01-04 14:19:55  00:18:59   \n",
       "4        Usu¨¢rio 1  2020-10-23 22:00:42  01:32:46   \n",
       "...             ...                  ...       ...   \n",
       "13605    Usu¨¢rio 2  2015-08-02 01:42:27  00:00:16   \n",
       "13606    Usu¨¢rio 2  2015-08-02 00:56:17  00:01:18   \n",
       "13607    Usu¨¢rio 2  2015-08-02 00:51:28  00:00:16   \n",
       "13608    Usu¨¢rio 2  2015-08-02 00:42:18  01:11:31   \n",
       "13609    Usu¨¢rio 2  2015-08-02 00:38:54  00:02:43   \n",
       "\n",
       "                                            4  \\\n",
       "0                                  Attributes   \n",
       "1                                               \n",
       "2                                               \n",
       "3      Autoplayed: user action: Unspecified;    \n",
       "4                                               \n",
       "...                                       ...   \n",
       "13605                                           \n",
       "13606                                           \n",
       "13607                                           \n",
       "13608                                           \n",
       "13609                                           \n",
       "\n",
       "                                                     5  \\\n",
       "0                                                Title   \n",
       "1                           Em Busca do Vale Encantado   \n",
       "2                                         Madagascar 2   \n",
       "3                                  A Estrela de BelÃ©m   \n",
       "4                                     A Caminho da Lua   \n",
       "...                                                ...   \n",
       "13605                                      Apenas Sexo   \n",
       "13606                            Secret Life of Babies   \n",
       "13607  Apartment 23: Temporada 1: Piloto (EpisÃ³dio 1)   \n",
       "13608                                  Ironias do amor   \n",
       "13609                                  Ironias do amor   \n",
       "\n",
       "                             6                                         7  \\\n",
       "0      Supplemental Video Type                               Device Type   \n",
       "1                                           Samsung Novatek DTV Smart TV   \n",
       "2                                           Samsung Novatek DTV Smart TV   \n",
       "3                               AOC AOC 2016 MT5800 with no FRC Smart TV   \n",
       "4                                           Samsung Novatek DTV Smart TV   \n",
       "...                        ...                                       ...   \n",
       "13605                                                             Mobile   \n",
       "13606                                                             Mobile   \n",
       "13607                                                             Mobile   \n",
       "13608                                       Samsung Novatek DTV Smart TV   \n",
       "13609                                       Samsung Novatek DTV Smart TV   \n",
       "\n",
       "              8                9                         10  \n",
       "0      Bookmark  Latest Bookmark      Country;;;;;;;;;;;;\\n  \n",
       "1      00:01:01         00:01:01  BR (Brazil);;;;;;;;;;;;\\n  \n",
       "2      00:59:49         00:59:49  BR (Brazil);;;;;;;;;;;;\\n  \n",
       "3      00:18:59         00:18:59   BR (Brazil);;;;;;;;;;;\\n  \n",
       "4      01:30:01         01:30:01  BR (Brazil);;;;;;;;;;;;\\n  \n",
       "...         ...              ...                        ...  \n",
       "13605  00:29:10         00:29:10  BR (Brazil);;;;;;;;;;;;\\n  \n",
       "13606  00:03:50         00:03:50  BR (Brazil);;;;;;;;;;;;\\n  \n",
       "13607  00:06:00         00:06:00  BR (Brazil);;;;;;;;;;;;\\n  \n",
       "13608  01:14:14  Not latest view  BR (Brazil);;;;;;;;;;;;\\n  \n",
       "13609  00:02:43  Not latest view  BR (Brazil);;;;;;;;;;;;\\n  \n",
       "\n",
       "[13120 rows x 10 columns]"
      ]
     },
     "execution_count": 67,
     "metadata": {},
     "output_type": "execute_result"
    }
   ],
   "source": [
    "df2 = pd.DataFrame(columns=['1', '2', '3', '4', '5', '6', '7', '8', '9', '10', '11'])\n",
    "df"
   ]
  },
  {
   "cell_type": "code",
   "execution_count": 68,
   "id": "db6431c9-e610-44f6-ba88-c6df20cacfc4",
   "metadata": {},
   "outputs": [],
   "source": [
    "for c in range(0, len(lista_2)):\n",
    "    if len(lista_2[c]) == 11:\n",
    "        df2.loc[c] = lista_2[c]"
   ]
  },
  {
   "cell_type": "code",
   "execution_count": 69,
   "id": "ec727bb5-631d-44bf-a629-1565a31858f2",
   "metadata": {},
   "outputs": [
    {
     "data": {
      "text/html": [
       "<div>\n",
       "<style scoped>\n",
       "    .dataframe tbody tr th:only-of-type {\n",
       "        vertical-align: middle;\n",
       "    }\n",
       "\n",
       "    .dataframe tbody tr th {\n",
       "        vertical-align: top;\n",
       "    }\n",
       "\n",
       "    .dataframe thead th {\n",
       "        text-align: right;\n",
       "    }\n",
       "</style>\n",
       "<table border=\"1\" class=\"dataframe\">\n",
       "  <thead>\n",
       "    <tr style=\"text-align: right;\">\n",
       "      <th></th>\n",
       "      <th>1</th>\n",
       "      <th>2</th>\n",
       "      <th>3</th>\n",
       "      <th>4</th>\n",
       "      <th>5</th>\n",
       "      <th>6</th>\n",
       "      <th>7</th>\n",
       "      <th>8</th>\n",
       "      <th>9</th>\n",
       "      <th>10</th>\n",
       "      <th>11</th>\n",
       "    </tr>\n",
       "  </thead>\n",
       "  <tbody>\n",
       "    <tr>\n",
       "      <th>21</th>\n",
       "      <td>Usu¨¢rio 1</td>\n",
       "      <td>2020-07-27 16:18:30</td>\n",
       "      <td>00:21:46</td>\n",
       "      <td>Autoplayed: user action: None;\"</td>\n",
       "      <td>\"\"DragÃµes: Corrida atÃ© o Limite: Temporada 3...</td>\n",
       "      <td>nÃ£o! (EpisÃ³dio 12)\"\"</td>\n",
       "      <td></td>\n",
       "      <td>MStar PureTurnkey51 AOC OEM2K Smart TV</td>\n",
       "      <td>00:22:27</td>\n",
       "      <td>00:22:27</td>\n",
       "      <td>BR (Brazil)\";;;;;;;;;;;\\n</td>\n",
       "    </tr>\n",
       "    <tr>\n",
       "      <th>48</th>\n",
       "      <td>Usu¨¢rio 1</td>\n",
       "      <td>2020-07-20 16:08:56</td>\n",
       "      <td>00:07:48</td>\n",
       "      <td>Autoplayed: user action: None;\"</td>\n",
       "      <td>\"\"Shaun</td>\n",
       "      <td>o Carneiro: Temporada 3: O jogo / Vamos ver u...</td>\n",
       "      <td></td>\n",
       "      <td>MStar PureTurnkey51 AOC OEM2K Smart TV</td>\n",
       "      <td>00:08:28</td>\n",
       "      <td>00:08:28</td>\n",
       "      <td>BR (Brazil)\";;;;;;;;;;;\\n</td>\n",
       "    </tr>\n",
       "    <tr>\n",
       "      <th>51</th>\n",
       "      <td>\"Usu¨¢rio 1</td>\n",
       "      <td>2020-07-20 15:31:58</td>\n",
       "      <td>00:12:16</td>\n",
       "      <td></td>\n",
       "      <td>\"\"Shaun</td>\n",
       "      <td>o Carneiro: Temporada 3: Os bagunceiros / O c...</td>\n",
       "      <td></td>\n",
       "      <td>MStar PureTurnkey51 AOC OEM2K Smart TV</td>\n",
       "      <td>00:12:56</td>\n",
       "      <td>00:12:56</td>\n",
       "      <td>BR (Brazil)\";;;;;;;;;;;;\\n</td>\n",
       "    </tr>\n",
       "    <tr>\n",
       "      <th>52</th>\n",
       "      <td>Usu¨¢rio 1</td>\n",
       "      <td>2020-07-20 15:28:30</td>\n",
       "      <td>00:03:22</td>\n",
       "      <td>Autoplayed: user action: Unspecified;\"</td>\n",
       "      <td>\"\"Shaun</td>\n",
       "      <td>o Carneiro: Temporada 3: O pastor / VocÃª esq...</td>\n",
       "      <td></td>\n",
       "      <td>MStar PureTurnkey51 AOC OEM2K Smart TV</td>\n",
       "      <td>00:12:47</td>\n",
       "      <td>00:12:47</td>\n",
       "      <td>BR (Brazil)\";;;;;;;;;;;\\n</td>\n",
       "    </tr>\n",
       "    <tr>\n",
       "      <th>53</th>\n",
       "      <td>\"Usu¨¢rio 1</td>\n",
       "      <td>2020-07-20 00:36:25</td>\n",
       "      <td>00:08:45</td>\n",
       "      <td></td>\n",
       "      <td>\"\"Shaun</td>\n",
       "      <td>o Carneiro: Temporada 3: O pastor / VocÃª esq...</td>\n",
       "      <td></td>\n",
       "      <td>MStar PureTurnkey51 AOC OEM2K Smart TV</td>\n",
       "      <td>00:09:25</td>\n",
       "      <td>Not latest view</td>\n",
       "      <td>BR (Brazil)\";;;;;;;;;;;;\\n</td>\n",
       "    </tr>\n",
       "  </tbody>\n",
       "</table>\n",
       "</div>"
      ],
      "text/plain": [
       "              1                    2         3  \\\n",
       "21   Usu¨¢rio 1  2020-07-27 16:18:30  00:21:46   \n",
       "48   Usu¨¢rio 1  2020-07-20 16:08:56  00:07:48   \n",
       "51  \"Usu¨¢rio 1  2020-07-20 15:31:58  00:12:16   \n",
       "52   Usu¨¢rio 1  2020-07-20 15:28:30  00:03:22   \n",
       "53  \"Usu¨¢rio 1  2020-07-20 00:36:25  00:08:45   \n",
       "\n",
       "                                          4  \\\n",
       "21         Autoplayed: user action: None;\"    \n",
       "48         Autoplayed: user action: None;\"    \n",
       "51                                            \n",
       "52  Autoplayed: user action: Unspecified;\"    \n",
       "53                                            \n",
       "\n",
       "                                                    5  \\\n",
       "21  \"\"DragÃµes: Corrida atÃ© o Limite: Temporada 3...   \n",
       "48                                            \"\"Shaun   \n",
       "51                                            \"\"Shaun   \n",
       "52                                            \"\"Shaun   \n",
       "53                                            \"\"Shaun   \n",
       "\n",
       "                                                    6 7  \\\n",
       "21                             nÃ£o! (EpisÃ³dio 12)\"\"     \n",
       "48   o Carneiro: Temporada 3: O jogo / Vamos ver u...     \n",
       "51   o Carneiro: Temporada 3: Os bagunceiros / O c...     \n",
       "52   o Carneiro: Temporada 3: O pastor / VocÃª esq...     \n",
       "53   o Carneiro: Temporada 3: O pastor / VocÃª esq...     \n",
       "\n",
       "                                         8         9               10  \\\n",
       "21  MStar PureTurnkey51 AOC OEM2K Smart TV  00:22:27         00:22:27   \n",
       "48  MStar PureTurnkey51 AOC OEM2K Smart TV  00:08:28         00:08:28   \n",
       "51  MStar PureTurnkey51 AOC OEM2K Smart TV  00:12:56         00:12:56   \n",
       "52  MStar PureTurnkey51 AOC OEM2K Smart TV  00:12:47         00:12:47   \n",
       "53  MStar PureTurnkey51 AOC OEM2K Smart TV  00:09:25  Not latest view   \n",
       "\n",
       "                            11  \n",
       "21   BR (Brazil)\";;;;;;;;;;;\\n  \n",
       "48   BR (Brazil)\";;;;;;;;;;;\\n  \n",
       "51  BR (Brazil)\";;;;;;;;;;;;\\n  \n",
       "52   BR (Brazil)\";;;;;;;;;;;\\n  \n",
       "53  BR (Brazil)\";;;;;;;;;;;;\\n  "
      ]
     },
     "execution_count": 69,
     "metadata": {},
     "output_type": "execute_result"
    }
   ],
   "source": [
    "df2.head()"
   ]
  },
  {
   "cell_type": "code",
   "execution_count": 70,
   "id": "521d2f41-d400-4571-ac8a-cefd70f23dce",
   "metadata": {},
   "outputs": [
    {
     "data": {
      "text/plain": [
       "(439, 11)"
      ]
     },
     "execution_count": 70,
     "metadata": {},
     "output_type": "execute_result"
    }
   ],
   "source": [
    "df2.shape"
   ]
  },
  {
   "cell_type": "code",
   "execution_count": 71,
   "id": "35ebadcd-27b6-441d-94ad-c940a1af844b",
   "metadata": {},
   "outputs": [],
   "source": [
    "df2['5'] = df2['5'].str.cat(df2['6'])"
   ]
  },
  {
   "cell_type": "code",
   "execution_count": 72,
   "id": "7f89489e-47bd-425b-9165-dab9536f125f",
   "metadata": {},
   "outputs": [],
   "source": [
    "df2.drop(columns='6', inplace=True)"
   ]
  },
  {
   "cell_type": "code",
   "execution_count": 73,
   "id": "91e2a775-8527-4e26-bfa9-a71da73ba07c",
   "metadata": {},
   "outputs": [
    {
     "data": {
      "text/html": [
       "<div>\n",
       "<style scoped>\n",
       "    .dataframe tbody tr th:only-of-type {\n",
       "        vertical-align: middle;\n",
       "    }\n",
       "\n",
       "    .dataframe tbody tr th {\n",
       "        vertical-align: top;\n",
       "    }\n",
       "\n",
       "    .dataframe thead th {\n",
       "        text-align: right;\n",
       "    }\n",
       "</style>\n",
       "<table border=\"1\" class=\"dataframe\">\n",
       "  <thead>\n",
       "    <tr style=\"text-align: right;\">\n",
       "      <th></th>\n",
       "      <th>1</th>\n",
       "      <th>2</th>\n",
       "      <th>3</th>\n",
       "      <th>4</th>\n",
       "      <th>5</th>\n",
       "      <th>7</th>\n",
       "      <th>8</th>\n",
       "      <th>9</th>\n",
       "      <th>10</th>\n",
       "      <th>11</th>\n",
       "    </tr>\n",
       "  </thead>\n",
       "  <tbody>\n",
       "    <tr>\n",
       "      <th>21</th>\n",
       "      <td>Usu¨¢rio 1</td>\n",
       "      <td>2020-07-27 16:18:30</td>\n",
       "      <td>00:21:46</td>\n",
       "      <td>Autoplayed: user action: None;\"</td>\n",
       "      <td>\"\"DragÃµes: Corrida atÃ© o Limite: Temporada 3...</td>\n",
       "      <td></td>\n",
       "      <td>MStar PureTurnkey51 AOC OEM2K Smart TV</td>\n",
       "      <td>00:22:27</td>\n",
       "      <td>00:22:27</td>\n",
       "      <td>BR (Brazil)\";;;;;;;;;;;\\n</td>\n",
       "    </tr>\n",
       "    <tr>\n",
       "      <th>48</th>\n",
       "      <td>Usu¨¢rio 1</td>\n",
       "      <td>2020-07-20 16:08:56</td>\n",
       "      <td>00:07:48</td>\n",
       "      <td>Autoplayed: user action: None;\"</td>\n",
       "      <td>\"\"Shaun o Carneiro: Temporada 3: O jogo / Vamo...</td>\n",
       "      <td></td>\n",
       "      <td>MStar PureTurnkey51 AOC OEM2K Smart TV</td>\n",
       "      <td>00:08:28</td>\n",
       "      <td>00:08:28</td>\n",
       "      <td>BR (Brazil)\";;;;;;;;;;;\\n</td>\n",
       "    </tr>\n",
       "    <tr>\n",
       "      <th>51</th>\n",
       "      <td>\"Usu¨¢rio 1</td>\n",
       "      <td>2020-07-20 15:31:58</td>\n",
       "      <td>00:12:16</td>\n",
       "      <td></td>\n",
       "      <td>\"\"Shaun o Carneiro: Temporada 3: Os bagunceiro...</td>\n",
       "      <td></td>\n",
       "      <td>MStar PureTurnkey51 AOC OEM2K Smart TV</td>\n",
       "      <td>00:12:56</td>\n",
       "      <td>00:12:56</td>\n",
       "      <td>BR (Brazil)\";;;;;;;;;;;;\\n</td>\n",
       "    </tr>\n",
       "    <tr>\n",
       "      <th>52</th>\n",
       "      <td>Usu¨¢rio 1</td>\n",
       "      <td>2020-07-20 15:28:30</td>\n",
       "      <td>00:03:22</td>\n",
       "      <td>Autoplayed: user action: Unspecified;\"</td>\n",
       "      <td>\"\"Shaun o Carneiro: Temporada 3: O pastor / Vo...</td>\n",
       "      <td></td>\n",
       "      <td>MStar PureTurnkey51 AOC OEM2K Smart TV</td>\n",
       "      <td>00:12:47</td>\n",
       "      <td>00:12:47</td>\n",
       "      <td>BR (Brazil)\";;;;;;;;;;;\\n</td>\n",
       "    </tr>\n",
       "    <tr>\n",
       "      <th>53</th>\n",
       "      <td>\"Usu¨¢rio 1</td>\n",
       "      <td>2020-07-20 00:36:25</td>\n",
       "      <td>00:08:45</td>\n",
       "      <td></td>\n",
       "      <td>\"\"Shaun o Carneiro: Temporada 3: O pastor / Vo...</td>\n",
       "      <td></td>\n",
       "      <td>MStar PureTurnkey51 AOC OEM2K Smart TV</td>\n",
       "      <td>00:09:25</td>\n",
       "      <td>Not latest view</td>\n",
       "      <td>BR (Brazil)\";;;;;;;;;;;;\\n</td>\n",
       "    </tr>\n",
       "  </tbody>\n",
       "</table>\n",
       "</div>"
      ],
      "text/plain": [
       "              1                    2         3  \\\n",
       "21   Usu¨¢rio 1  2020-07-27 16:18:30  00:21:46   \n",
       "48   Usu¨¢rio 1  2020-07-20 16:08:56  00:07:48   \n",
       "51  \"Usu¨¢rio 1  2020-07-20 15:31:58  00:12:16   \n",
       "52   Usu¨¢rio 1  2020-07-20 15:28:30  00:03:22   \n",
       "53  \"Usu¨¢rio 1  2020-07-20 00:36:25  00:08:45   \n",
       "\n",
       "                                          4  \\\n",
       "21         Autoplayed: user action: None;\"    \n",
       "48         Autoplayed: user action: None;\"    \n",
       "51                                            \n",
       "52  Autoplayed: user action: Unspecified;\"    \n",
       "53                                            \n",
       "\n",
       "                                                    5 7  \\\n",
       "21  \"\"DragÃµes: Corrida atÃ© o Limite: Temporada 3...     \n",
       "48  \"\"Shaun o Carneiro: Temporada 3: O jogo / Vamo...     \n",
       "51  \"\"Shaun o Carneiro: Temporada 3: Os bagunceiro...     \n",
       "52  \"\"Shaun o Carneiro: Temporada 3: O pastor / Vo...     \n",
       "53  \"\"Shaun o Carneiro: Temporada 3: O pastor / Vo...     \n",
       "\n",
       "                                         8         9               10  \\\n",
       "21  MStar PureTurnkey51 AOC OEM2K Smart TV  00:22:27         00:22:27   \n",
       "48  MStar PureTurnkey51 AOC OEM2K Smart TV  00:08:28         00:08:28   \n",
       "51  MStar PureTurnkey51 AOC OEM2K Smart TV  00:12:56         00:12:56   \n",
       "52  MStar PureTurnkey51 AOC OEM2K Smart TV  00:12:47         00:12:47   \n",
       "53  MStar PureTurnkey51 AOC OEM2K Smart TV  00:09:25  Not latest view   \n",
       "\n",
       "                            11  \n",
       "21   BR (Brazil)\";;;;;;;;;;;\\n  \n",
       "48   BR (Brazil)\";;;;;;;;;;;\\n  \n",
       "51  BR (Brazil)\";;;;;;;;;;;;\\n  \n",
       "52   BR (Brazil)\";;;;;;;;;;;\\n  \n",
       "53  BR (Brazil)\";;;;;;;;;;;;\\n  "
      ]
     },
     "execution_count": 73,
     "metadata": {},
     "output_type": "execute_result"
    }
   ],
   "source": [
    "df2.head()"
   ]
  },
  {
   "cell_type": "code",
   "execution_count": 74,
   "id": "d21939ad-926f-46c8-b548-f78b881c7fdf",
   "metadata": {},
   "outputs": [],
   "source": [
    "df2.rename(columns={'7': '6', '8': '7', '9': '8', '10': '9', '11' : '10'}, inplace=True)"
   ]
  },
  {
   "cell_type": "code",
   "execution_count": 75,
   "id": "71198250-28cb-4b6b-9e85-b43b0b60d1e9",
   "metadata": {},
   "outputs": [
    {
     "data": {
      "text/html": [
       "<div>\n",
       "<style scoped>\n",
       "    .dataframe tbody tr th:only-of-type {\n",
       "        vertical-align: middle;\n",
       "    }\n",
       "\n",
       "    .dataframe tbody tr th {\n",
       "        vertical-align: top;\n",
       "    }\n",
       "\n",
       "    .dataframe thead th {\n",
       "        text-align: right;\n",
       "    }\n",
       "</style>\n",
       "<table border=\"1\" class=\"dataframe\">\n",
       "  <thead>\n",
       "    <tr style=\"text-align: right;\">\n",
       "      <th></th>\n",
       "      <th>1</th>\n",
       "      <th>2</th>\n",
       "      <th>3</th>\n",
       "      <th>4</th>\n",
       "      <th>5</th>\n",
       "      <th>6</th>\n",
       "      <th>7</th>\n",
       "      <th>8</th>\n",
       "      <th>9</th>\n",
       "      <th>10</th>\n",
       "    </tr>\n",
       "  </thead>\n",
       "  <tbody>\n",
       "    <tr>\n",
       "      <th>21</th>\n",
       "      <td>Usu¨¢rio 1</td>\n",
       "      <td>2020-07-27 16:18:30</td>\n",
       "      <td>00:21:46</td>\n",
       "      <td>Autoplayed: user action: None;\"</td>\n",
       "      <td>\"\"DragÃµes: Corrida atÃ© o Limite: Temporada 3...</td>\n",
       "      <td></td>\n",
       "      <td>MStar PureTurnkey51 AOC OEM2K Smart TV</td>\n",
       "      <td>00:22:27</td>\n",
       "      <td>00:22:27</td>\n",
       "      <td>BR (Brazil)\";;;;;;;;;;;\\n</td>\n",
       "    </tr>\n",
       "    <tr>\n",
       "      <th>48</th>\n",
       "      <td>Usu¨¢rio 1</td>\n",
       "      <td>2020-07-20 16:08:56</td>\n",
       "      <td>00:07:48</td>\n",
       "      <td>Autoplayed: user action: None;\"</td>\n",
       "      <td>\"\"Shaun o Carneiro: Temporada 3: O jogo / Vamo...</td>\n",
       "      <td></td>\n",
       "      <td>MStar PureTurnkey51 AOC OEM2K Smart TV</td>\n",
       "      <td>00:08:28</td>\n",
       "      <td>00:08:28</td>\n",
       "      <td>BR (Brazil)\";;;;;;;;;;;\\n</td>\n",
       "    </tr>\n",
       "    <tr>\n",
       "      <th>51</th>\n",
       "      <td>\"Usu¨¢rio 1</td>\n",
       "      <td>2020-07-20 15:31:58</td>\n",
       "      <td>00:12:16</td>\n",
       "      <td></td>\n",
       "      <td>\"\"Shaun o Carneiro: Temporada 3: Os bagunceiro...</td>\n",
       "      <td></td>\n",
       "      <td>MStar PureTurnkey51 AOC OEM2K Smart TV</td>\n",
       "      <td>00:12:56</td>\n",
       "      <td>00:12:56</td>\n",
       "      <td>BR (Brazil)\";;;;;;;;;;;;\\n</td>\n",
       "    </tr>\n",
       "    <tr>\n",
       "      <th>52</th>\n",
       "      <td>Usu¨¢rio 1</td>\n",
       "      <td>2020-07-20 15:28:30</td>\n",
       "      <td>00:03:22</td>\n",
       "      <td>Autoplayed: user action: Unspecified;\"</td>\n",
       "      <td>\"\"Shaun o Carneiro: Temporada 3: O pastor / Vo...</td>\n",
       "      <td></td>\n",
       "      <td>MStar PureTurnkey51 AOC OEM2K Smart TV</td>\n",
       "      <td>00:12:47</td>\n",
       "      <td>00:12:47</td>\n",
       "      <td>BR (Brazil)\";;;;;;;;;;;\\n</td>\n",
       "    </tr>\n",
       "    <tr>\n",
       "      <th>53</th>\n",
       "      <td>\"Usu¨¢rio 1</td>\n",
       "      <td>2020-07-20 00:36:25</td>\n",
       "      <td>00:08:45</td>\n",
       "      <td></td>\n",
       "      <td>\"\"Shaun o Carneiro: Temporada 3: O pastor / Vo...</td>\n",
       "      <td></td>\n",
       "      <td>MStar PureTurnkey51 AOC OEM2K Smart TV</td>\n",
       "      <td>00:09:25</td>\n",
       "      <td>Not latest view</td>\n",
       "      <td>BR (Brazil)\";;;;;;;;;;;;\\n</td>\n",
       "    </tr>\n",
       "  </tbody>\n",
       "</table>\n",
       "</div>"
      ],
      "text/plain": [
       "              1                    2         3  \\\n",
       "21   Usu¨¢rio 1  2020-07-27 16:18:30  00:21:46   \n",
       "48   Usu¨¢rio 1  2020-07-20 16:08:56  00:07:48   \n",
       "51  \"Usu¨¢rio 1  2020-07-20 15:31:58  00:12:16   \n",
       "52   Usu¨¢rio 1  2020-07-20 15:28:30  00:03:22   \n",
       "53  \"Usu¨¢rio 1  2020-07-20 00:36:25  00:08:45   \n",
       "\n",
       "                                          4  \\\n",
       "21         Autoplayed: user action: None;\"    \n",
       "48         Autoplayed: user action: None;\"    \n",
       "51                                            \n",
       "52  Autoplayed: user action: Unspecified;\"    \n",
       "53                                            \n",
       "\n",
       "                                                    5 6  \\\n",
       "21  \"\"DragÃµes: Corrida atÃ© o Limite: Temporada 3...     \n",
       "48  \"\"Shaun o Carneiro: Temporada 3: O jogo / Vamo...     \n",
       "51  \"\"Shaun o Carneiro: Temporada 3: Os bagunceiro...     \n",
       "52  \"\"Shaun o Carneiro: Temporada 3: O pastor / Vo...     \n",
       "53  \"\"Shaun o Carneiro: Temporada 3: O pastor / Vo...     \n",
       "\n",
       "                                         7         8                9  \\\n",
       "21  MStar PureTurnkey51 AOC OEM2K Smart TV  00:22:27         00:22:27   \n",
       "48  MStar PureTurnkey51 AOC OEM2K Smart TV  00:08:28         00:08:28   \n",
       "51  MStar PureTurnkey51 AOC OEM2K Smart TV  00:12:56         00:12:56   \n",
       "52  MStar PureTurnkey51 AOC OEM2K Smart TV  00:12:47         00:12:47   \n",
       "53  MStar PureTurnkey51 AOC OEM2K Smart TV  00:09:25  Not latest view   \n",
       "\n",
       "                            10  \n",
       "21   BR (Brazil)\";;;;;;;;;;;\\n  \n",
       "48   BR (Brazil)\";;;;;;;;;;;\\n  \n",
       "51  BR (Brazil)\";;;;;;;;;;;;\\n  \n",
       "52   BR (Brazil)\";;;;;;;;;;;\\n  \n",
       "53  BR (Brazil)\";;;;;;;;;;;;\\n  "
      ]
     },
     "execution_count": 75,
     "metadata": {},
     "output_type": "execute_result"
    }
   ],
   "source": [
    "df2.head()"
   ]
  },
  {
   "cell_type": "code",
   "execution_count": 76,
   "id": "eb2d1488-fdfd-4d40-afd5-fe6b8ea358c7",
   "metadata": {},
   "outputs": [
    {
     "data": {
      "text/plain": [
       "(439, 10)"
      ]
     },
     "execution_count": 76,
     "metadata": {},
     "output_type": "execute_result"
    }
   ],
   "source": [
    "df2.shape"
   ]
  },
  {
   "cell_type": "code",
   "execution_count": 77,
   "id": "38824447-8326-4995-9598-b7daecabb39a",
   "metadata": {},
   "outputs": [],
   "source": [
    "df_novo = pd.concat([df, df2], ignore_index=True)"
   ]
  },
  {
   "cell_type": "code",
   "execution_count": 78,
   "id": "7f0a7394-579a-4cad-be88-de56a5d0772a",
   "metadata": {},
   "outputs": [
    {
     "data": {
      "text/html": [
       "<div>\n",
       "<style scoped>\n",
       "    .dataframe tbody tr th:only-of-type {\n",
       "        vertical-align: middle;\n",
       "    }\n",
       "\n",
       "    .dataframe tbody tr th {\n",
       "        vertical-align: top;\n",
       "    }\n",
       "\n",
       "    .dataframe thead th {\n",
       "        text-align: right;\n",
       "    }\n",
       "</style>\n",
       "<table border=\"1\" class=\"dataframe\">\n",
       "  <thead>\n",
       "    <tr style=\"text-align: right;\">\n",
       "      <th></th>\n",
       "      <th>1</th>\n",
       "      <th>2</th>\n",
       "      <th>3</th>\n",
       "      <th>4</th>\n",
       "      <th>5</th>\n",
       "      <th>6</th>\n",
       "      <th>7</th>\n",
       "      <th>8</th>\n",
       "      <th>9</th>\n",
       "      <th>10</th>\n",
       "    </tr>\n",
       "  </thead>\n",
       "  <tbody>\n",
       "    <tr>\n",
       "      <th>0</th>\n",
       "      <td>Profile Name</td>\n",
       "      <td>Start Time</td>\n",
       "      <td>Duration</td>\n",
       "      <td>Attributes</td>\n",
       "      <td>Title</td>\n",
       "      <td>Supplemental Video Type</td>\n",
       "      <td>Device Type</td>\n",
       "      <td>Bookmark</td>\n",
       "      <td>Latest Bookmark</td>\n",
       "      <td>Country;;;;;;;;;;;;\\n</td>\n",
       "    </tr>\n",
       "    <tr>\n",
       "      <th>1</th>\n",
       "      <td>Usu¨¢rio 1</td>\n",
       "      <td>2021-01-04 17:40:58</td>\n",
       "      <td>00:01:01</td>\n",
       "      <td></td>\n",
       "      <td>Em Busca do Vale Encantado</td>\n",
       "      <td></td>\n",
       "      <td>Samsung Novatek DTV Smart TV</td>\n",
       "      <td>00:01:01</td>\n",
       "      <td>00:01:01</td>\n",
       "      <td>BR (Brazil);;;;;;;;;;;;\\n</td>\n",
       "    </tr>\n",
       "    <tr>\n",
       "      <th>2</th>\n",
       "      <td>Usu¨¢rio 1</td>\n",
       "      <td>2021-01-04 17:32:40</td>\n",
       "      <td>00:06:04</td>\n",
       "      <td></td>\n",
       "      <td>Madagascar 2</td>\n",
       "      <td></td>\n",
       "      <td>Samsung Novatek DTV Smart TV</td>\n",
       "      <td>00:59:49</td>\n",
       "      <td>00:59:49</td>\n",
       "      <td>BR (Brazil);;;;;;;;;;;;\\n</td>\n",
       "    </tr>\n",
       "    <tr>\n",
       "      <th>3</th>\n",
       "      <td>Usu¨¢rio 1</td>\n",
       "      <td>2021-01-04 14:19:55</td>\n",
       "      <td>00:18:59</td>\n",
       "      <td>Autoplayed: user action: Unspecified;</td>\n",
       "      <td>A Estrela de BelÃ©m</td>\n",
       "      <td></td>\n",
       "      <td>AOC AOC 2016 MT5800 with no FRC Smart TV</td>\n",
       "      <td>00:18:59</td>\n",
       "      <td>00:18:59</td>\n",
       "      <td>BR (Brazil);;;;;;;;;;;\\n</td>\n",
       "    </tr>\n",
       "    <tr>\n",
       "      <th>4</th>\n",
       "      <td>Usu¨¢rio 1</td>\n",
       "      <td>2020-10-23 22:00:42</td>\n",
       "      <td>01:32:46</td>\n",
       "      <td></td>\n",
       "      <td>A Caminho da Lua</td>\n",
       "      <td></td>\n",
       "      <td>Samsung Novatek DTV Smart TV</td>\n",
       "      <td>01:30:01</td>\n",
       "      <td>01:30:01</td>\n",
       "      <td>BR (Brazil);;;;;;;;;;;;\\n</td>\n",
       "    </tr>\n",
       "  </tbody>\n",
       "</table>\n",
       "</div>"
      ],
      "text/plain": [
       "              1                    2         3  \\\n",
       "0  Profile Name           Start Time  Duration   \n",
       "1    Usu¨¢rio 1  2021-01-04 17:40:58  00:01:01   \n",
       "2    Usu¨¢rio 1  2021-01-04 17:32:40  00:06:04   \n",
       "3    Usu¨¢rio 1  2021-01-04 14:19:55  00:18:59   \n",
       "4    Usu¨¢rio 1  2020-10-23 22:00:42  01:32:46   \n",
       "\n",
       "                                        4                           5  \\\n",
       "0                              Attributes                       Title   \n",
       "1                                          Em Busca do Vale Encantado   \n",
       "2                                                        Madagascar 2   \n",
       "3  Autoplayed: user action: Unspecified;          A Estrela de BelÃ©m   \n",
       "4                                                    A Caminho da Lua   \n",
       "\n",
       "                         6                                         7  \\\n",
       "0  Supplemental Video Type                               Device Type   \n",
       "1                                       Samsung Novatek DTV Smart TV   \n",
       "2                                       Samsung Novatek DTV Smart TV   \n",
       "3                           AOC AOC 2016 MT5800 with no FRC Smart TV   \n",
       "4                                       Samsung Novatek DTV Smart TV   \n",
       "\n",
       "          8                9                         10  \n",
       "0  Bookmark  Latest Bookmark      Country;;;;;;;;;;;;\\n  \n",
       "1  00:01:01         00:01:01  BR (Brazil);;;;;;;;;;;;\\n  \n",
       "2  00:59:49         00:59:49  BR (Brazil);;;;;;;;;;;;\\n  \n",
       "3  00:18:59         00:18:59   BR (Brazil);;;;;;;;;;;\\n  \n",
       "4  01:30:01         01:30:01  BR (Brazil);;;;;;;;;;;;\\n  "
      ]
     },
     "execution_count": 78,
     "metadata": {},
     "output_type": "execute_result"
    }
   ],
   "source": [
    "df_novo.head()"
   ]
  },
  {
   "cell_type": "code",
   "execution_count": 79,
   "id": "4c143a9f-4496-43f8-bf14-bf065a083f65",
   "metadata": {},
   "outputs": [
    {
     "data": {
      "text/plain": [
       "(13559, 10)"
      ]
     },
     "execution_count": 79,
     "metadata": {},
     "output_type": "execute_result"
    }
   ],
   "source": [
    "df_novo.shape"
   ]
  },
  {
   "cell_type": "code",
   "execution_count": 80,
   "id": "72556a91-3ebf-4126-9f28-a489c203053a",
   "metadata": {},
   "outputs": [
    {
     "name": "stdout",
     "output_type": "stream",
     "text": [
      "<class 'pandas.core.frame.DataFrame'>\n",
      "RangeIndex: 13559 entries, 0 to 13558\n",
      "Data columns (total 10 columns):\n",
      " #   Column  Non-Null Count  Dtype \n",
      "---  ------  --------------  ----- \n",
      " 0   1       13559 non-null  object\n",
      " 1   2       13559 non-null  object\n",
      " 2   3       13559 non-null  object\n",
      " 3   4       13559 non-null  object\n",
      " 4   5       13559 non-null  object\n",
      " 5   6       13559 non-null  object\n",
      " 6   7       13559 non-null  object\n",
      " 7   8       13559 non-null  object\n",
      " 8   9       13559 non-null  object\n",
      " 9   10      13559 non-null  object\n",
      "dtypes: object(10)\n",
      "memory usage: 1.0+ MB\n"
     ]
    }
   ],
   "source": [
    "df_novo.info()"
   ]
  },
  {
   "cell_type": "code",
   "execution_count": 81,
   "id": "cb9c92fd-5afc-4dac-8c2a-adf632829291",
   "metadata": {},
   "outputs": [],
   "source": [
    "df_novo.columns = df.loc[0]"
   ]
  },
  {
   "cell_type": "code",
   "execution_count": 82,
   "id": "b427e7dc-1f5f-4a8e-86c9-914d7a803641",
   "metadata": {},
   "outputs": [
    {
     "data": {
      "text/html": [
       "<div>\n",
       "<style scoped>\n",
       "    .dataframe tbody tr th:only-of-type {\n",
       "        vertical-align: middle;\n",
       "    }\n",
       "\n",
       "    .dataframe tbody tr th {\n",
       "        vertical-align: top;\n",
       "    }\n",
       "\n",
       "    .dataframe thead th {\n",
       "        text-align: right;\n",
       "    }\n",
       "</style>\n",
       "<table border=\"1\" class=\"dataframe\">\n",
       "  <thead>\n",
       "    <tr style=\"text-align: right;\">\n",
       "      <th></th>\n",
       "      <th>Profile Name</th>\n",
       "      <th>Start Time</th>\n",
       "      <th>Duration</th>\n",
       "      <th>Attributes</th>\n",
       "      <th>Title</th>\n",
       "      <th>Supplemental Video Type</th>\n",
       "      <th>Device Type</th>\n",
       "      <th>Bookmark</th>\n",
       "      <th>Latest Bookmark</th>\n",
       "      <th>Country;;;;;;;;;;;;\\n</th>\n",
       "    </tr>\n",
       "  </thead>\n",
       "  <tbody>\n",
       "    <tr>\n",
       "      <th>0</th>\n",
       "      <td>Profile Name</td>\n",
       "      <td>Start Time</td>\n",
       "      <td>Duration</td>\n",
       "      <td>Attributes</td>\n",
       "      <td>Title</td>\n",
       "      <td>Supplemental Video Type</td>\n",
       "      <td>Device Type</td>\n",
       "      <td>Bookmark</td>\n",
       "      <td>Latest Bookmark</td>\n",
       "      <td>Country;;;;;;;;;;;;\\n</td>\n",
       "    </tr>\n",
       "    <tr>\n",
       "      <th>1</th>\n",
       "      <td>Usu¨¢rio 1</td>\n",
       "      <td>2021-01-04 17:40:58</td>\n",
       "      <td>00:01:01</td>\n",
       "      <td></td>\n",
       "      <td>Em Busca do Vale Encantado</td>\n",
       "      <td></td>\n",
       "      <td>Samsung Novatek DTV Smart TV</td>\n",
       "      <td>00:01:01</td>\n",
       "      <td>00:01:01</td>\n",
       "      <td>BR (Brazil);;;;;;;;;;;;\\n</td>\n",
       "    </tr>\n",
       "    <tr>\n",
       "      <th>2</th>\n",
       "      <td>Usu¨¢rio 1</td>\n",
       "      <td>2021-01-04 17:32:40</td>\n",
       "      <td>00:06:04</td>\n",
       "      <td></td>\n",
       "      <td>Madagascar 2</td>\n",
       "      <td></td>\n",
       "      <td>Samsung Novatek DTV Smart TV</td>\n",
       "      <td>00:59:49</td>\n",
       "      <td>00:59:49</td>\n",
       "      <td>BR (Brazil);;;;;;;;;;;;\\n</td>\n",
       "    </tr>\n",
       "    <tr>\n",
       "      <th>3</th>\n",
       "      <td>Usu¨¢rio 1</td>\n",
       "      <td>2021-01-04 14:19:55</td>\n",
       "      <td>00:18:59</td>\n",
       "      <td>Autoplayed: user action: Unspecified;</td>\n",
       "      <td>A Estrela de BelÃ©m</td>\n",
       "      <td></td>\n",
       "      <td>AOC AOC 2016 MT5800 with no FRC Smart TV</td>\n",
       "      <td>00:18:59</td>\n",
       "      <td>00:18:59</td>\n",
       "      <td>BR (Brazil);;;;;;;;;;;\\n</td>\n",
       "    </tr>\n",
       "    <tr>\n",
       "      <th>4</th>\n",
       "      <td>Usu¨¢rio 1</td>\n",
       "      <td>2020-10-23 22:00:42</td>\n",
       "      <td>01:32:46</td>\n",
       "      <td></td>\n",
       "      <td>A Caminho da Lua</td>\n",
       "      <td></td>\n",
       "      <td>Samsung Novatek DTV Smart TV</td>\n",
       "      <td>01:30:01</td>\n",
       "      <td>01:30:01</td>\n",
       "      <td>BR (Brazil);;;;;;;;;;;;\\n</td>\n",
       "    </tr>\n",
       "  </tbody>\n",
       "</table>\n",
       "</div>"
      ],
      "text/plain": [
       "0  Profile Name           Start Time  Duration  \\\n",
       "0  Profile Name           Start Time  Duration   \n",
       "1    Usu¨¢rio 1  2021-01-04 17:40:58  00:01:01   \n",
       "2    Usu¨¢rio 1  2021-01-04 17:32:40  00:06:04   \n",
       "3    Usu¨¢rio 1  2021-01-04 14:19:55  00:18:59   \n",
       "4    Usu¨¢rio 1  2020-10-23 22:00:42  01:32:46   \n",
       "\n",
       "0                              Attributes                       Title  \\\n",
       "0                              Attributes                       Title   \n",
       "1                                          Em Busca do Vale Encantado   \n",
       "2                                                        Madagascar 2   \n",
       "3  Autoplayed: user action: Unspecified;          A Estrela de BelÃ©m   \n",
       "4                                                    A Caminho da Lua   \n",
       "\n",
       "0  Supplemental Video Type                               Device Type  \\\n",
       "0  Supplemental Video Type                               Device Type   \n",
       "1                                       Samsung Novatek DTV Smart TV   \n",
       "2                                       Samsung Novatek DTV Smart TV   \n",
       "3                           AOC AOC 2016 MT5800 with no FRC Smart TV   \n",
       "4                                       Samsung Novatek DTV Smart TV   \n",
       "\n",
       "0  Bookmark  Latest Bookmark      Country;;;;;;;;;;;;\\n  \n",
       "0  Bookmark  Latest Bookmark      Country;;;;;;;;;;;;\\n  \n",
       "1  00:01:01         00:01:01  BR (Brazil);;;;;;;;;;;;\\n  \n",
       "2  00:59:49         00:59:49  BR (Brazil);;;;;;;;;;;;\\n  \n",
       "3  00:18:59         00:18:59   BR (Brazil);;;;;;;;;;;\\n  \n",
       "4  01:30:01         01:30:01  BR (Brazil);;;;;;;;;;;;\\n  "
      ]
     },
     "execution_count": 82,
     "metadata": {},
     "output_type": "execute_result"
    }
   ],
   "source": [
    "df_novo.head()"
   ]
  },
  {
   "cell_type": "code",
   "execution_count": 83,
   "id": "3650cc9b-fe42-440f-b2e2-c00992abf53c",
   "metadata": {},
   "outputs": [],
   "source": [
    "df_novo.drop(0, inplace=True)"
   ]
  },
  {
   "cell_type": "code",
   "execution_count": 84,
   "id": "beb75ceb-2b23-4295-a7af-69ccc766018b",
   "metadata": {},
   "outputs": [
    {
     "data": {
      "text/html": [
       "<div>\n",
       "<style scoped>\n",
       "    .dataframe tbody tr th:only-of-type {\n",
       "        vertical-align: middle;\n",
       "    }\n",
       "\n",
       "    .dataframe tbody tr th {\n",
       "        vertical-align: top;\n",
       "    }\n",
       "\n",
       "    .dataframe thead th {\n",
       "        text-align: right;\n",
       "    }\n",
       "</style>\n",
       "<table border=\"1\" class=\"dataframe\">\n",
       "  <thead>\n",
       "    <tr style=\"text-align: right;\">\n",
       "      <th></th>\n",
       "      <th>Profile Name</th>\n",
       "      <th>Start Time</th>\n",
       "      <th>Duration</th>\n",
       "      <th>Attributes</th>\n",
       "      <th>Title</th>\n",
       "      <th>Supplemental Video Type</th>\n",
       "      <th>Device Type</th>\n",
       "      <th>Bookmark</th>\n",
       "      <th>Latest Bookmark</th>\n",
       "      <th>Country;;;;;;;;;;;;\\n</th>\n",
       "    </tr>\n",
       "  </thead>\n",
       "  <tbody>\n",
       "    <tr>\n",
       "      <th>1</th>\n",
       "      <td>Usu¨¢rio 1</td>\n",
       "      <td>2021-01-04 17:40:58</td>\n",
       "      <td>00:01:01</td>\n",
       "      <td></td>\n",
       "      <td>Em Busca do Vale Encantado</td>\n",
       "      <td></td>\n",
       "      <td>Samsung Novatek DTV Smart TV</td>\n",
       "      <td>00:01:01</td>\n",
       "      <td>00:01:01</td>\n",
       "      <td>BR (Brazil);;;;;;;;;;;;\\n</td>\n",
       "    </tr>\n",
       "    <tr>\n",
       "      <th>2</th>\n",
       "      <td>Usu¨¢rio 1</td>\n",
       "      <td>2021-01-04 17:32:40</td>\n",
       "      <td>00:06:04</td>\n",
       "      <td></td>\n",
       "      <td>Madagascar 2</td>\n",
       "      <td></td>\n",
       "      <td>Samsung Novatek DTV Smart TV</td>\n",
       "      <td>00:59:49</td>\n",
       "      <td>00:59:49</td>\n",
       "      <td>BR (Brazil);;;;;;;;;;;;\\n</td>\n",
       "    </tr>\n",
       "    <tr>\n",
       "      <th>3</th>\n",
       "      <td>Usu¨¢rio 1</td>\n",
       "      <td>2021-01-04 14:19:55</td>\n",
       "      <td>00:18:59</td>\n",
       "      <td>Autoplayed: user action: Unspecified;</td>\n",
       "      <td>A Estrela de BelÃ©m</td>\n",
       "      <td></td>\n",
       "      <td>AOC AOC 2016 MT5800 with no FRC Smart TV</td>\n",
       "      <td>00:18:59</td>\n",
       "      <td>00:18:59</td>\n",
       "      <td>BR (Brazil);;;;;;;;;;;\\n</td>\n",
       "    </tr>\n",
       "    <tr>\n",
       "      <th>4</th>\n",
       "      <td>Usu¨¢rio 1</td>\n",
       "      <td>2020-10-23 22:00:42</td>\n",
       "      <td>01:32:46</td>\n",
       "      <td></td>\n",
       "      <td>A Caminho da Lua</td>\n",
       "      <td></td>\n",
       "      <td>Samsung Novatek DTV Smart TV</td>\n",
       "      <td>01:30:01</td>\n",
       "      <td>01:30:01</td>\n",
       "      <td>BR (Brazil);;;;;;;;;;;;\\n</td>\n",
       "    </tr>\n",
       "    <tr>\n",
       "      <th>5</th>\n",
       "      <td>Usu¨¢rio 1</td>\n",
       "      <td>2020-09-02 14:28:34</td>\n",
       "      <td>00:00:10</td>\n",
       "      <td></td>\n",
       "      <td>AmazÃ´nia</td>\n",
       "      <td></td>\n",
       "      <td>DefaultWidevineAndroidPhone</td>\n",
       "      <td>00:00:03</td>\n",
       "      <td>00:00:03</td>\n",
       "      <td>BR (Brazil);;;;;;;;;;;;\\n</td>\n",
       "    </tr>\n",
       "  </tbody>\n",
       "</table>\n",
       "</div>"
      ],
      "text/plain": [
       "0 Profile Name           Start Time  Duration  \\\n",
       "1   Usu¨¢rio 1  2021-01-04 17:40:58  00:01:01   \n",
       "2   Usu¨¢rio 1  2021-01-04 17:32:40  00:06:04   \n",
       "3   Usu¨¢rio 1  2021-01-04 14:19:55  00:18:59   \n",
       "4   Usu¨¢rio 1  2020-10-23 22:00:42  01:32:46   \n",
       "5   Usu¨¢rio 1  2020-09-02 14:28:34  00:00:10   \n",
       "\n",
       "0                              Attributes                       Title  \\\n",
       "1                                          Em Busca do Vale Encantado   \n",
       "2                                                        Madagascar 2   \n",
       "3  Autoplayed: user action: Unspecified;          A Estrela de BelÃ©m   \n",
       "4                                                    A Caminho da Lua   \n",
       "5                                                           AmazÃ´nia   \n",
       "\n",
       "0 Supplemental Video Type                               Device Type  Bookmark  \\\n",
       "1                                      Samsung Novatek DTV Smart TV  00:01:01   \n",
       "2                                      Samsung Novatek DTV Smart TV  00:59:49   \n",
       "3                          AOC AOC 2016 MT5800 with no FRC Smart TV  00:18:59   \n",
       "4                                      Samsung Novatek DTV Smart TV  01:30:01   \n",
       "5                                       DefaultWidevineAndroidPhone  00:00:03   \n",
       "\n",
       "0 Latest Bookmark      Country;;;;;;;;;;;;\\n  \n",
       "1        00:01:01  BR (Brazil);;;;;;;;;;;;\\n  \n",
       "2        00:59:49  BR (Brazil);;;;;;;;;;;;\\n  \n",
       "3        00:18:59   BR (Brazil);;;;;;;;;;;\\n  \n",
       "4        01:30:01  BR (Brazil);;;;;;;;;;;;\\n  \n",
       "5        00:00:03  BR (Brazil);;;;;;;;;;;;\\n  "
      ]
     },
     "execution_count": 84,
     "metadata": {},
     "output_type": "execute_result"
    }
   ],
   "source": [
    "df_novo.head()"
   ]
  },
  {
   "cell_type": "code",
   "execution_count": 85,
   "id": "5b687b4c-864d-4b9e-90c7-2766af89a360",
   "metadata": {},
   "outputs": [
    {
     "name": "stdout",
     "output_type": "stream",
     "text": [
      "<class 'pandas.core.frame.DataFrame'>\n",
      "Int64Index: 13558 entries, 1 to 13558\n",
      "Data columns (total 10 columns):\n",
      " #   Column                   Non-Null Count  Dtype \n",
      "---  ------                   --------------  ----- \n",
      " 0   Profile Name             13558 non-null  object\n",
      " 1   Start Time               13558 non-null  object\n",
      " 2   Duration                 13558 non-null  object\n",
      " 3   Attributes               13558 non-null  object\n",
      " 4   Title                    13558 non-null  object\n",
      " 5   Supplemental Video Type  13558 non-null  object\n",
      " 6   Device Type              13558 non-null  object\n",
      " 7   Bookmark                 13558 non-null  object\n",
      " 8   Latest Bookmark          13558 non-null  object\n",
      " 9   Country;;;;;;;;;;;;\n",
      "     13558 non-null  object\n",
      "dtypes: object(10)\n",
      "memory usage: 1.1+ MB\n"
     ]
    }
   ],
   "source": [
    "df_novo.info()"
   ]
  },
  {
   "cell_type": "code",
   "execution_count": 86,
   "id": "78c72504-cf7b-44e9-8f5a-fbd3cd328f21",
   "metadata": {},
   "outputs": [],
   "source": [
    "df_novo.drop(columns=['Attributes', 'Supplemental Video Type'], inplace=True)"
   ]
  },
  {
   "cell_type": "code",
   "execution_count": 87,
   "id": "53a80494-1868-4d22-a874-501a64c5fd0b",
   "metadata": {},
   "outputs": [],
   "source": [
    "df_novo.rename(columns={'Profile Name': 'usuario', 'Start Time': 'data_hora', 'Duration': 'duracao', \n",
    "                       'Title': 'título_assistido', 'Device Type': 'assistido_via',\n",
    "                       'Country;;;;;;;;;;;;\\n': 'país'}, inplace=True)"
   ]
  },
  {
   "cell_type": "code",
   "execution_count": 88,
   "id": "d484ece4-bd95-4306-9fad-1bcafd528793",
   "metadata": {},
   "outputs": [],
   "source": [
    "def extrair_pais(pais):\n",
    "    loc = pais.find(')')\n",
    "    try:\n",
    "        return pais[0:loc+1]\n",
    "    except:\n",
    "        return 'SEM DADO'"
   ]
  },
  {
   "cell_type": "code",
   "execution_count": 89,
   "id": "05ac7af0-1d04-4f30-b59e-b45f0f56089c",
   "metadata": {},
   "outputs": [],
   "source": [
    "df_novo['país'] = df_novo['país'].apply(extrair_pais)"
   ]
  },
  {
   "cell_type": "code",
   "execution_count": 90,
   "id": "c247af1d-4709-4331-9992-b8e55270aab5",
   "metadata": {},
   "outputs": [],
   "source": [
    "df_novo.drop(columns=['Bookmark', 'Latest Bookmark'], inplace=True)"
   ]
  },
  {
   "cell_type": "code",
   "execution_count": 91,
   "id": "5ffa8c7f-7d5d-4d41-a6f9-10bd3e59f34c",
   "metadata": {},
   "outputs": [],
   "source": [
    "df_novo['data_hora'] = pd.to_datetime(df_novo['data_hora'])"
   ]
  },
  {
   "cell_type": "code",
   "execution_count": 92,
   "id": "404533b4-f300-48b7-9b7f-6988300fea4b",
   "metadata": {},
   "outputs": [],
   "source": [
    "df_novo.reset_index(inplace=True)"
   ]
  },
  {
   "cell_type": "code",
   "execution_count": 93,
   "id": "8f05c8ef-530e-4b58-95b9-dc6e05d32034",
   "metadata": {},
   "outputs": [],
   "source": [
    "df_novo.drop(columns='index', inplace=True)"
   ]
  },
  {
   "cell_type": "code",
   "execution_count": 94,
   "id": "78dbc3d0-1978-4a5d-a400-ebdad6e877e0",
   "metadata": {},
   "outputs": [],
   "source": [
    "def usuario(user):\n",
    "    if '1' in user:\n",
    "        return 'Usuário 1'\n",
    "    if '2' in user:\n",
    "        return 'Usuário 2'\n",
    "    if '3' in user:\n",
    "        return 'Usuário 3'\n",
    "    else:\n",
    "        return 'SEM DADO'"
   ]
  },
  {
   "cell_type": "code",
   "execution_count": 95,
   "id": "c34baea7-c271-4f13-9b6b-bd957449ac2e",
   "metadata": {},
   "outputs": [],
   "source": [
    "df_novo['usuario'] = df_novo['usuario'].apply(usuario)"
   ]
  },
  {
   "cell_type": "code",
   "execution_count": 96,
   "id": "a48e496c-d693-492e-9043-da4fc661bd7a",
   "metadata": {},
   "outputs": [],
   "source": [
    "df_novo['duracao'] = pd.to_timedelta(df_novo['duracao'])"
   ]
  },
  {
   "cell_type": "code",
   "execution_count": 97,
   "id": "c7972d95-0e06-4481-8263-12ddf448c91b",
   "metadata": {},
   "outputs": [
    {
     "data": {
      "text/html": [
       "<div>\n",
       "<style scoped>\n",
       "    .dataframe tbody tr th:only-of-type {\n",
       "        vertical-align: middle;\n",
       "    }\n",
       "\n",
       "    .dataframe tbody tr th {\n",
       "        vertical-align: top;\n",
       "    }\n",
       "\n",
       "    .dataframe thead th {\n",
       "        text-align: right;\n",
       "    }\n",
       "</style>\n",
       "<table border=\"1\" class=\"dataframe\">\n",
       "  <thead>\n",
       "    <tr style=\"text-align: right;\">\n",
       "      <th></th>\n",
       "      <th>usuario</th>\n",
       "      <th>data_hora</th>\n",
       "      <th>duracao</th>\n",
       "      <th>título_assistido</th>\n",
       "      <th>assistido_via</th>\n",
       "      <th>país</th>\n",
       "    </tr>\n",
       "  </thead>\n",
       "  <tbody>\n",
       "    <tr>\n",
       "      <th>0</th>\n",
       "      <td>Usuário 1</td>\n",
       "      <td>2021-01-04 17:40:58</td>\n",
       "      <td>0 days 00:01:01</td>\n",
       "      <td>Em Busca do Vale Encantado</td>\n",
       "      <td>Samsung Novatek DTV Smart TV</td>\n",
       "      <td>BR (Brazil)</td>\n",
       "    </tr>\n",
       "    <tr>\n",
       "      <th>1</th>\n",
       "      <td>Usuário 1</td>\n",
       "      <td>2021-01-04 17:32:40</td>\n",
       "      <td>0 days 00:06:04</td>\n",
       "      <td>Madagascar 2</td>\n",
       "      <td>Samsung Novatek DTV Smart TV</td>\n",
       "      <td>BR (Brazil)</td>\n",
       "    </tr>\n",
       "    <tr>\n",
       "      <th>2</th>\n",
       "      <td>Usuário 1</td>\n",
       "      <td>2021-01-04 14:19:55</td>\n",
       "      <td>0 days 00:18:59</td>\n",
       "      <td>A Estrela de BelÃ©m</td>\n",
       "      <td>AOC AOC 2016 MT5800 with no FRC Smart TV</td>\n",
       "      <td>BR (Brazil)</td>\n",
       "    </tr>\n",
       "    <tr>\n",
       "      <th>3</th>\n",
       "      <td>Usuário 1</td>\n",
       "      <td>2020-10-23 22:00:42</td>\n",
       "      <td>0 days 01:32:46</td>\n",
       "      <td>A Caminho da Lua</td>\n",
       "      <td>Samsung Novatek DTV Smart TV</td>\n",
       "      <td>BR (Brazil)</td>\n",
       "    </tr>\n",
       "    <tr>\n",
       "      <th>4</th>\n",
       "      <td>Usuário 1</td>\n",
       "      <td>2020-09-02 14:28:34</td>\n",
       "      <td>0 days 00:00:10</td>\n",
       "      <td>AmazÃ´nia</td>\n",
       "      <td>DefaultWidevineAndroidPhone</td>\n",
       "      <td>BR (Brazil)</td>\n",
       "    </tr>\n",
       "  </tbody>\n",
       "</table>\n",
       "</div>"
      ],
      "text/plain": [
       "0    usuario           data_hora         duracao            título_assistido  \\\n",
       "0  Usuário 1 2021-01-04 17:40:58 0 days 00:01:01  Em Busca do Vale Encantado   \n",
       "1  Usuário 1 2021-01-04 17:32:40 0 days 00:06:04                Madagascar 2   \n",
       "2  Usuário 1 2021-01-04 14:19:55 0 days 00:18:59         A Estrela de BelÃ©m   \n",
       "3  Usuário 1 2020-10-23 22:00:42 0 days 01:32:46            A Caminho da Lua   \n",
       "4  Usuário 1 2020-09-02 14:28:34 0 days 00:00:10                   AmazÃ´nia   \n",
       "\n",
       "0                             assistido_via         país  \n",
       "0              Samsung Novatek DTV Smart TV  BR (Brazil)  \n",
       "1              Samsung Novatek DTV Smart TV  BR (Brazil)  \n",
       "2  AOC AOC 2016 MT5800 with no FRC Smart TV  BR (Brazil)  \n",
       "3              Samsung Novatek DTV Smart TV  BR (Brazil)  \n",
       "4               DefaultWidevineAndroidPhone  BR (Brazil)  "
      ]
     },
     "execution_count": 97,
     "metadata": {},
     "output_type": "execute_result"
    }
   ],
   "source": [
    "df_novo.head()"
   ]
  },
  {
   "cell_type": "code",
   "execution_count": 98,
   "id": "f880459c-93f2-4054-b4fa-b38ea0af707e",
   "metadata": {},
   "outputs": [],
   "source": [
    "df_novo['segundos'] = df_novo['duracao'].apply(lambda x: x.seconds)"
   ]
  },
  {
   "cell_type": "code",
   "execution_count": 99,
   "id": "c49f6a8b-48ae-48b2-95dc-1d207925ec91",
   "metadata": {},
   "outputs": [
    {
     "data": {
      "text/html": [
       "<div>\n",
       "<style scoped>\n",
       "    .dataframe tbody tr th:only-of-type {\n",
       "        vertical-align: middle;\n",
       "    }\n",
       "\n",
       "    .dataframe tbody tr th {\n",
       "        vertical-align: top;\n",
       "    }\n",
       "\n",
       "    .dataframe thead th {\n",
       "        text-align: right;\n",
       "    }\n",
       "</style>\n",
       "<table border=\"1\" class=\"dataframe\">\n",
       "  <thead>\n",
       "    <tr style=\"text-align: right;\">\n",
       "      <th></th>\n",
       "      <th>usuario</th>\n",
       "      <th>data_hora</th>\n",
       "      <th>duracao</th>\n",
       "      <th>título_assistido</th>\n",
       "      <th>assistido_via</th>\n",
       "      <th>país</th>\n",
       "      <th>segundos</th>\n",
       "    </tr>\n",
       "  </thead>\n",
       "  <tbody>\n",
       "    <tr>\n",
       "      <th>0</th>\n",
       "      <td>Usuário 1</td>\n",
       "      <td>2021-01-04 17:40:58</td>\n",
       "      <td>0 days 00:01:01</td>\n",
       "      <td>Em Busca do Vale Encantado</td>\n",
       "      <td>Samsung Novatek DTV Smart TV</td>\n",
       "      <td>BR (Brazil)</td>\n",
       "      <td>61</td>\n",
       "    </tr>\n",
       "    <tr>\n",
       "      <th>1</th>\n",
       "      <td>Usuário 1</td>\n",
       "      <td>2021-01-04 17:32:40</td>\n",
       "      <td>0 days 00:06:04</td>\n",
       "      <td>Madagascar 2</td>\n",
       "      <td>Samsung Novatek DTV Smart TV</td>\n",
       "      <td>BR (Brazil)</td>\n",
       "      <td>364</td>\n",
       "    </tr>\n",
       "    <tr>\n",
       "      <th>2</th>\n",
       "      <td>Usuário 1</td>\n",
       "      <td>2021-01-04 14:19:55</td>\n",
       "      <td>0 days 00:18:59</td>\n",
       "      <td>A Estrela de BelÃ©m</td>\n",
       "      <td>AOC AOC 2016 MT5800 with no FRC Smart TV</td>\n",
       "      <td>BR (Brazil)</td>\n",
       "      <td>1139</td>\n",
       "    </tr>\n",
       "    <tr>\n",
       "      <th>3</th>\n",
       "      <td>Usuário 1</td>\n",
       "      <td>2020-10-23 22:00:42</td>\n",
       "      <td>0 days 01:32:46</td>\n",
       "      <td>A Caminho da Lua</td>\n",
       "      <td>Samsung Novatek DTV Smart TV</td>\n",
       "      <td>BR (Brazil)</td>\n",
       "      <td>5566</td>\n",
       "    </tr>\n",
       "    <tr>\n",
       "      <th>4</th>\n",
       "      <td>Usuário 1</td>\n",
       "      <td>2020-09-02 14:28:34</td>\n",
       "      <td>0 days 00:00:10</td>\n",
       "      <td>AmazÃ´nia</td>\n",
       "      <td>DefaultWidevineAndroidPhone</td>\n",
       "      <td>BR (Brazil)</td>\n",
       "      <td>10</td>\n",
       "    </tr>\n",
       "  </tbody>\n",
       "</table>\n",
       "</div>"
      ],
      "text/plain": [
       "0    usuario           data_hora         duracao            título_assistido  \\\n",
       "0  Usuário 1 2021-01-04 17:40:58 0 days 00:01:01  Em Busca do Vale Encantado   \n",
       "1  Usuário 1 2021-01-04 17:32:40 0 days 00:06:04                Madagascar 2   \n",
       "2  Usuário 1 2021-01-04 14:19:55 0 days 00:18:59         A Estrela de BelÃ©m   \n",
       "3  Usuário 1 2020-10-23 22:00:42 0 days 01:32:46            A Caminho da Lua   \n",
       "4  Usuário 1 2020-09-02 14:28:34 0 days 00:00:10                   AmazÃ´nia   \n",
       "\n",
       "0                             assistido_via         país  segundos  \n",
       "0              Samsung Novatek DTV Smart TV  BR (Brazil)        61  \n",
       "1              Samsung Novatek DTV Smart TV  BR (Brazil)       364  \n",
       "2  AOC AOC 2016 MT5800 with no FRC Smart TV  BR (Brazil)      1139  \n",
       "3              Samsung Novatek DTV Smart TV  BR (Brazil)      5566  \n",
       "4               DefaultWidevineAndroidPhone  BR (Brazil)        10  "
      ]
     },
     "execution_count": 99,
     "metadata": {},
     "output_type": "execute_result"
    }
   ],
   "source": [
    "df_novo.head()"
   ]
  },
  {
   "cell_type": "code",
   "execution_count": 100,
   "id": "82188f09-96ba-439b-b355-6b56b569bf44",
   "metadata": {},
   "outputs": [
    {
     "data": {
      "text/html": [
       "<div>\n",
       "<style scoped>\n",
       "    .dataframe tbody tr th:only-of-type {\n",
       "        vertical-align: middle;\n",
       "    }\n",
       "\n",
       "    .dataframe tbody tr th {\n",
       "        vertical-align: top;\n",
       "    }\n",
       "\n",
       "    .dataframe thead th {\n",
       "        text-align: right;\n",
       "    }\n",
       "</style>\n",
       "<table border=\"1\" class=\"dataframe\">\n",
       "  <thead>\n",
       "    <tr style=\"text-align: right;\">\n",
       "      <th></th>\n",
       "      <th>usuario</th>\n",
       "      <th>data_hora</th>\n",
       "      <th>duracao</th>\n",
       "      <th>título_assistido</th>\n",
       "      <th>assistido_via</th>\n",
       "      <th>país</th>\n",
       "      <th>segundos</th>\n",
       "    </tr>\n",
       "  </thead>\n",
       "  <tbody>\n",
       "    <tr>\n",
       "      <th>0</th>\n",
       "      <td>Usuário 1</td>\n",
       "      <td>2021-01-04 17:40:58</td>\n",
       "      <td>0 days 00:01:01</td>\n",
       "      <td>Em Busca do Vale Encantado</td>\n",
       "      <td>Samsung Novatek DTV Smart TV</td>\n",
       "      <td>BR (Brazil)</td>\n",
       "      <td>61</td>\n",
       "    </tr>\n",
       "    <tr>\n",
       "      <th>1</th>\n",
       "      <td>Usuário 1</td>\n",
       "      <td>2021-01-04 17:32:40</td>\n",
       "      <td>0 days 00:06:04</td>\n",
       "      <td>Madagascar 2</td>\n",
       "      <td>Samsung Novatek DTV Smart TV</td>\n",
       "      <td>BR (Brazil)</td>\n",
       "      <td>364</td>\n",
       "    </tr>\n",
       "    <tr>\n",
       "      <th>2</th>\n",
       "      <td>Usuário 1</td>\n",
       "      <td>2021-01-04 14:19:55</td>\n",
       "      <td>0 days 00:18:59</td>\n",
       "      <td>A Estrela de BelÃ©m</td>\n",
       "      <td>AOC AOC 2016 MT5800 with no FRC Smart TV</td>\n",
       "      <td>BR (Brazil)</td>\n",
       "      <td>1139</td>\n",
       "    </tr>\n",
       "    <tr>\n",
       "      <th>3</th>\n",
       "      <td>Usuário 1</td>\n",
       "      <td>2020-10-23 22:00:42</td>\n",
       "      <td>0 days 01:32:46</td>\n",
       "      <td>A Caminho da Lua</td>\n",
       "      <td>Samsung Novatek DTV Smart TV</td>\n",
       "      <td>BR (Brazil)</td>\n",
       "      <td>5566</td>\n",
       "    </tr>\n",
       "    <tr>\n",
       "      <th>4</th>\n",
       "      <td>Usuário 1</td>\n",
       "      <td>2020-09-02 14:28:34</td>\n",
       "      <td>0 days 00:00:10</td>\n",
       "      <td>AmazÃ´nia</td>\n",
       "      <td>DefaultWidevineAndroidPhone</td>\n",
       "      <td>BR (Brazil)</td>\n",
       "      <td>10</td>\n",
       "    </tr>\n",
       "  </tbody>\n",
       "</table>\n",
       "</div>"
      ],
      "text/plain": [
       "0    usuario           data_hora         duracao            título_assistido  \\\n",
       "0  Usuário 1 2021-01-04 17:40:58 0 days 00:01:01  Em Busca do Vale Encantado   \n",
       "1  Usuário 1 2021-01-04 17:32:40 0 days 00:06:04                Madagascar 2   \n",
       "2  Usuário 1 2021-01-04 14:19:55 0 days 00:18:59         A Estrela de BelÃ©m   \n",
       "3  Usuário 1 2020-10-23 22:00:42 0 days 01:32:46            A Caminho da Lua   \n",
       "4  Usuário 1 2020-09-02 14:28:34 0 days 00:00:10                   AmazÃ´nia   \n",
       "\n",
       "0                             assistido_via         país  segundos  \n",
       "0              Samsung Novatek DTV Smart TV  BR (Brazil)        61  \n",
       "1              Samsung Novatek DTV Smart TV  BR (Brazil)       364  \n",
       "2  AOC AOC 2016 MT5800 with no FRC Smart TV  BR (Brazil)      1139  \n",
       "3              Samsung Novatek DTV Smart TV  BR (Brazil)      5566  \n",
       "4               DefaultWidevineAndroidPhone  BR (Brazil)        10  "
      ]
     },
     "execution_count": 100,
     "metadata": {},
     "output_type": "execute_result"
    }
   ],
   "source": [
    "df_novo.head()"
   ]
  },
  {
   "cell_type": "code",
   "execution_count": 101,
   "id": "7b09233d-f926-406a-8bf9-841052f3d598",
   "metadata": {},
   "outputs": [],
   "source": [
    "df_novo['título_assistido']  = df_novo['título_assistido'].apply(lambda x: x.replace('\"', ''))"
   ]
  },
  {
   "cell_type": "code",
   "execution_count": 102,
   "id": "5864d3ce-f0a2-48d1-b398-853a2e48ba5f",
   "metadata": {},
   "outputs": [
    {
     "data": {
      "text/plain": [
       "AtÃ© o Ãltimo Homem                                                       23\n",
       "Velozes e Furiosos 3 â?Desafio em TÃ³quio                                 22\n",
       "Homem de Ferro 2                                                           22\n",
       "Velozes & Furiosos 6                                                       21\n",
       "Homem de Ferro 3                                                           20\n",
       "                                                                           ..\n",
       "Betty em Nova York: Temporada 1: Un padre desilusionado (EpisÃ³dio 102)     1\n",
       "Betty em Nova York: Temporada 1: Noticia trÃ¡gica (EpisÃ³dio 101)           1\n",
       "Betty em Nova York: Temporada 1: La nueva Betty (EpisÃ³dio 100)             1\n",
       "Betty em Nova York: Temporada 1: Un poema de amor (EpisÃ³dio 52)            1\n",
       "CrianÃ§as diante do trono - Samuel o menino que ouviu Deus                  1\n",
       "Name: título_assistido, Length: 6313, dtype: int64"
      ]
     },
     "execution_count": 102,
     "metadata": {},
     "output_type": "execute_result"
    }
   ],
   "source": [
    "df_novo['título_assistido'].value_counts()"
   ]
  },
  {
   "cell_type": "code",
   "execution_count": 103,
   "id": "a859bcbb-e1ef-4c4f-9af0-fe68aa581f68",
   "metadata": {},
   "outputs": [
    {
     "data": {
      "text/plain": [
       "usuario    assistido_via                                                   \n",
       "Usuário 1  Samsung Novatek DTV Smart TV                                         291\n",
       "           MStar PureTurnkey51 AOC OEM2K Smart TV                               144\n",
       "           AOC AOC 2016 MT5800 with no FRC Smart TV                              40\n",
       "           LG 2018 Mstar M3 Standard DTV Smart TV                                31\n",
       "           Samsung 2015 NT14M DTV Smart TV                                       29\n",
       "           Android DefaultWidevineL3Phone Android Phone                          12\n",
       "           Chrome PC (Cadmium)                                                    1\n",
       "           DefaultWidevineAndroidPhone                                            1\n",
       "Usuário 2  Samsung Novatek DTV Smart TV                                        4997\n",
       "           AOC AOC 2016 MT5800 with no FRC Smart TV                            1489\n",
       "           LG 2018 Mstar M3 Standard DTV Smart TV                               879\n",
       "           Samsung 2015 NT14M DTV Smart TV                                      608\n",
       "           Android DefaultWidevineL3Phone Android Phone                         439\n",
       "           DefaultWidevineAndroidPhone                                          277\n",
       "           Chrome PC (Cadmium)                                                  225\n",
       "           Mobile                                                               163\n",
       "           Android DefaultWidevineL3Phone Android Phone (asus_ASUS_Z00UD)        65\n",
       "           MStar PureTurnkey51 AOC OEM2K Smart TV                                56\n",
       "           Android DefaultWidevineL3Phone Android Phone (samsung_SM-G360BT)      29\n",
       "           Android DefaultWidevineL3Phone Android Phone (asus_ASUS_X013D)        22\n",
       "           Netflix Windows App - Cadmium Windows Mobile                           1\n",
       "Usuário 3  Samsung 2016 Jazz-L UHD TV Smart TV                                 3193\n",
       "           Apple iPhone 7 (GSM)                                                 113\n",
       "           Android DefaultWidevineL3Phone Android Phone (asus_ASUS_Z00UD)       106\n",
       "           DefaultWidevineAndroidPhone                                          105\n",
       "           LG 2018 Mstar LM18A STD UHD TV Smart TV                               85\n",
       "           Chrome PC (Cadmium)                                                   56\n",
       "           Sony PS4                                                              45\n",
       "           Microsoft Xbox One S                                                  14\n",
       "           Samsung Novatek DTV Smart TV                                          14\n",
       "           Apple iPad Air 3rd Gen (Wi-Fi)                                        12\n",
       "           Samsung 2015 NT14M DTV Smart TV                                        6\n",
       "           Netflix Windows App - Cadmium Windows Mobile                           4\n",
       "           AOC AOC 2016 MT5800 with no FRC Smart TV                               3\n",
       "           Android DefaultWidevineL3Phone Android Phone                           3\n",
       "Name: assistido_via, dtype: int64"
      ]
     },
     "execution_count": 103,
     "metadata": {},
     "output_type": "execute_result"
    }
   ],
   "source": [
    "df_novo.groupby('usuario')['assistido_via'].value_counts()"
   ]
  },
  {
   "cell_type": "code",
   "execution_count": 104,
   "id": "f6cb6b8a-7f53-4b4a-9a80-cf49d262c320",
   "metadata": {},
   "outputs": [],
   "source": [
    "def transforma_via_acesso(dispositivo):\n",
    "    if 'TV' in dispositivo:\n",
    "        return 'TV'\n",
    "    elif ('Android' in dispositivo) or ('iPhone' in dispositivo) or ('Phone' in dispositivo) or ('Mobile' in dispositivo):\n",
    "        return 'Celular'\n",
    "    elif ('PC' in dispositivo) or ('Chrome' in dispositivo):\n",
    "        return 'PC'\n",
    "    elif ('Xbox' in dispositivo)  or ('PS4' in dispositivo) or ('Sony' in dispositivo):\n",
    "        return  'Console'\n",
    "    elif ('iPad' in dispositivo):\n",
    "        return 'Tablet'"
   ]
  },
  {
   "cell_type": "code",
   "execution_count": 105,
   "id": "1cf18b42-71ee-4b4b-aafa-c68278382b17",
   "metadata": {},
   "outputs": [],
   "source": [
    "df_novo['assistido_via'] = df_novo['assistido_via'].apply(transforma_via_acesso)"
   ]
  },
  {
   "cell_type": "code",
   "execution_count": 106,
   "id": "2691e64f-e2fb-40ca-a19c-dded407d63c9",
   "metadata": {},
   "outputs": [
    {
     "data": {
      "text/plain": [
       "usuario    assistido_via\n",
       "Usuário 1  TV                535\n",
       "           Celular            13\n",
       "           PC                  1\n",
       "Usuário 2  TV               8029\n",
       "           Celular           996\n",
       "           PC                225\n",
       "Usuário 3  TV               3301\n",
       "           Celular           331\n",
       "           Console            59\n",
       "           PC                 56\n",
       "           Tablet             12\n",
       "Name: assistido_via, dtype: int64"
      ]
     },
     "execution_count": 106,
     "metadata": {},
     "output_type": "execute_result"
    }
   ],
   "source": [
    "df_novo.groupby('usuario')['assistido_via'].value_counts()"
   ]
  },
  {
   "cell_type": "code",
   "execution_count": 107,
   "id": "d7500ed9-bf98-4cb6-bd20-fa360f0cc9de",
   "metadata": {},
   "outputs": [
    {
     "name": "stdout",
     "output_type": "stream",
     "text": [
      "<class 'pandas.core.frame.DataFrame'>\n",
      "RangeIndex: 13558 entries, 0 to 13557\n",
      "Data columns (total 7 columns):\n",
      " #   Column            Non-Null Count  Dtype          \n",
      "---  ------            --------------  -----          \n",
      " 0   usuario           13558 non-null  object         \n",
      " 1   data_hora         13558 non-null  datetime64[ns] \n",
      " 2   duracao           13558 non-null  timedelta64[ns]\n",
      " 3   título_assistido  13558 non-null  object         \n",
      " 4   assistido_via     13558 non-null  object         \n",
      " 5   país              13558 non-null  object         \n",
      " 6   segundos          13558 non-null  int64          \n",
      "dtypes: datetime64[ns](1), int64(1), object(4), timedelta64[ns](1)\n",
      "memory usage: 741.6+ KB\n"
     ]
    }
   ],
   "source": [
    "df_novo.info()"
   ]
  },
  {
   "cell_type": "code",
   "execution_count": 108,
   "id": "bec818a4-c374-4e0f-bc94-2cfb98675d83",
   "metadata": {},
   "outputs": [
    {
     "data": {
      "text/html": [
       "<div>\n",
       "<style scoped>\n",
       "    .dataframe tbody tr th:only-of-type {\n",
       "        vertical-align: middle;\n",
       "    }\n",
       "\n",
       "    .dataframe tbody tr th {\n",
       "        vertical-align: top;\n",
       "    }\n",
       "\n",
       "    .dataframe thead th {\n",
       "        text-align: right;\n",
       "    }\n",
       "</style>\n",
       "<table border=\"1\" class=\"dataframe\">\n",
       "  <thead>\n",
       "    <tr style=\"text-align: right;\">\n",
       "      <th></th>\n",
       "      <th>usuario</th>\n",
       "      <th>data_hora</th>\n",
       "      <th>duracao</th>\n",
       "      <th>título_assistido</th>\n",
       "      <th>assistido_via</th>\n",
       "      <th>país</th>\n",
       "      <th>segundos</th>\n",
       "    </tr>\n",
       "  </thead>\n",
       "  <tbody>\n",
       "    <tr>\n",
       "      <th>0</th>\n",
       "      <td>Usuário 1</td>\n",
       "      <td>2021-01-04 17:40:58</td>\n",
       "      <td>0 days 00:01:01</td>\n",
       "      <td>Em Busca do Vale Encantado</td>\n",
       "      <td>TV</td>\n",
       "      <td>BR (Brazil)</td>\n",
       "      <td>61</td>\n",
       "    </tr>\n",
       "    <tr>\n",
       "      <th>1</th>\n",
       "      <td>Usuário 1</td>\n",
       "      <td>2021-01-04 17:32:40</td>\n",
       "      <td>0 days 00:06:04</td>\n",
       "      <td>Madagascar 2</td>\n",
       "      <td>TV</td>\n",
       "      <td>BR (Brazil)</td>\n",
       "      <td>364</td>\n",
       "    </tr>\n",
       "    <tr>\n",
       "      <th>2</th>\n",
       "      <td>Usuário 1</td>\n",
       "      <td>2021-01-04 14:19:55</td>\n",
       "      <td>0 days 00:18:59</td>\n",
       "      <td>A Estrela de BelÃ©m</td>\n",
       "      <td>TV</td>\n",
       "      <td>BR (Brazil)</td>\n",
       "      <td>1139</td>\n",
       "    </tr>\n",
       "    <tr>\n",
       "      <th>3</th>\n",
       "      <td>Usuário 1</td>\n",
       "      <td>2020-10-23 22:00:42</td>\n",
       "      <td>0 days 01:32:46</td>\n",
       "      <td>A Caminho da Lua</td>\n",
       "      <td>TV</td>\n",
       "      <td>BR (Brazil)</td>\n",
       "      <td>5566</td>\n",
       "    </tr>\n",
       "    <tr>\n",
       "      <th>4</th>\n",
       "      <td>Usuário 1</td>\n",
       "      <td>2020-09-02 14:28:34</td>\n",
       "      <td>0 days 00:00:10</td>\n",
       "      <td>AmazÃ´nia</td>\n",
       "      <td>Celular</td>\n",
       "      <td>BR (Brazil)</td>\n",
       "      <td>10</td>\n",
       "    </tr>\n",
       "  </tbody>\n",
       "</table>\n",
       "</div>"
      ],
      "text/plain": [
       "0    usuario           data_hora         duracao            título_assistido  \\\n",
       "0  Usuário 1 2021-01-04 17:40:58 0 days 00:01:01  Em Busca do Vale Encantado   \n",
       "1  Usuário 1 2021-01-04 17:32:40 0 days 00:06:04                Madagascar 2   \n",
       "2  Usuário 1 2021-01-04 14:19:55 0 days 00:18:59         A Estrela de BelÃ©m   \n",
       "3  Usuário 1 2020-10-23 22:00:42 0 days 01:32:46            A Caminho da Lua   \n",
       "4  Usuário 1 2020-09-02 14:28:34 0 days 00:00:10                   AmazÃ´nia   \n",
       "\n",
       "0 assistido_via         país  segundos  \n",
       "0            TV  BR (Brazil)        61  \n",
       "1            TV  BR (Brazil)       364  \n",
       "2            TV  BR (Brazil)      1139  \n",
       "3            TV  BR (Brazil)      5566  \n",
       "4       Celular  BR (Brazil)        10  "
      ]
     },
     "execution_count": 108,
     "metadata": {},
     "output_type": "execute_result"
    }
   ],
   "source": [
    "df_novo.head()"
   ]
  },
  {
   "cell_type": "code",
   "execution_count": null,
   "id": "eca7cec9-d86f-470e-bdfd-39c8ab17dfe7",
   "metadata": {},
   "outputs": [],
   "source": []
  },
  {
   "cell_type": "code",
   "execution_count": 109,
   "id": "3cc8ccb6-d26d-4c76-b16e-92f3f046f067",
   "metadata": {},
   "outputs": [],
   "source": [
    "df_novo.to_csv('netflix-historico-duracao.csv', encoding='utf-8', index=False)"
   ]
  }
 ],
 "metadata": {
  "kernelspec": {
   "display_name": "Python 3 (ipykernel)",
   "language": "python",
   "name": "python3"
  },
  "language_info": {
   "codemirror_mode": {
    "name": "ipython",
    "version": 3
   },
   "file_extension": ".py",
   "mimetype": "text/x-python",
   "name": "python",
   "nbconvert_exporter": "python",
   "pygments_lexer": "ipython3",
   "version": "3.8.6"
  }
 },
 "nbformat": 4,
 "nbformat_minor": 5
}
